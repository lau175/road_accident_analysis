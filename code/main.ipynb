{
 "cells": [
  {
   "cell_type": "code",
   "execution_count": 1,
   "id": "4aa21159-1250-4a66-9812-008f4517e80f",
   "metadata": {},
   "outputs": [],
   "source": [
    "import pandas as pd\n",
    "import datetime as dt\n",
    "import matplotlib.pyplot as plt\n",
    "from scipy import stats\n",
    "import seaborn as sns\n",
    "import plotly.express as px\n",
    "import plotly.graph_objects as go\n",
    "import numpy as np\n",
    "import plotly.io as pio\n",
    "pio.renderers.default = 'iframe'"
   ]
  },
  {
   "cell_type": "markdown",
   "id": "ca44a10e",
   "metadata": {},
   "source": [
    "# Data cleaning"
   ]
  },
  {
   "cell_type": "code",
   "execution_count": 2,
   "id": "9b009eb6-02b0-4176-87e5-63aa461feb0f",
   "metadata": {
    "scrolled": true
   },
   "outputs": [
    {
     "name": "stdout",
     "output_type": "stream",
     "text": [
      "\n",
      "Dataset Shape (Rows, Columns): (190824, 39)\n",
      "\n",
      "Data preview: \n"
     ]
    },
    {
     "data": {
      "text/html": [
       "<div>\n",
       "<style scoped>\n",
       "    .dataframe tbody tr th:only-of-type {\n",
       "        vertical-align: middle;\n",
       "    }\n",
       "\n",
       "    .dataframe tbody tr th {\n",
       "        vertical-align: top;\n",
       "    }\n",
       "\n",
       "    .dataframe thead th {\n",
       "        text-align: right;\n",
       "    }\n",
       "</style>\n",
       "<table border=\"1\" class=\"dataframe\">\n",
       "  <thead>\n",
       "    <tr style=\"text-align: right;\">\n",
       "      <th></th>\n",
       "      <th>report_number</th>\n",
       "      <th>local_case_number</th>\n",
       "      <th>agency_name</th>\n",
       "      <th>acrs_report_type</th>\n",
       "      <th>crash_date/time</th>\n",
       "      <th>route_type</th>\n",
       "      <th>road_name</th>\n",
       "      <th>cross-street_name</th>\n",
       "      <th>off-road_description</th>\n",
       "      <th>municipality</th>\n",
       "      <th>...</th>\n",
       "      <th>vehicle_going_dir</th>\n",
       "      <th>speed_limit</th>\n",
       "      <th>driverless_vehicle</th>\n",
       "      <th>parked_vehicle</th>\n",
       "      <th>vehicle_year</th>\n",
       "      <th>vehicle_make</th>\n",
       "      <th>vehicle_model</th>\n",
       "      <th>latitude</th>\n",
       "      <th>longitude</th>\n",
       "      <th>location</th>\n",
       "    </tr>\n",
       "  </thead>\n",
       "  <tbody>\n",
       "    <tr>\n",
       "      <th>0</th>\n",
       "      <td>DM8479000T</td>\n",
       "      <td>210020119</td>\n",
       "      <td>Takoma Park Police Depart</td>\n",
       "      <td>Property Damage Crash</td>\n",
       "      <td>05/27/2021 07:40:00 PM</td>\n",
       "      <td>NaN</td>\n",
       "      <td>NaN</td>\n",
       "      <td>NaN</td>\n",
       "      <td>IN PARKING LOT</td>\n",
       "      <td>NaN</td>\n",
       "      <td>...</td>\n",
       "      <td>NaN</td>\n",
       "      <td>0</td>\n",
       "      <td>No</td>\n",
       "      <td>Yes</td>\n",
       "      <td>2017</td>\n",
       "      <td>HINO</td>\n",
       "      <td>TWK</td>\n",
       "      <td>38.987657</td>\n",
       "      <td>-76.987545</td>\n",
       "      <td>(38.98765667, -76.987545)</td>\n",
       "    </tr>\n",
       "    <tr>\n",
       "      <th>1</th>\n",
       "      <td>MCP2970000R</td>\n",
       "      <td>15045937</td>\n",
       "      <td>MONTGOMERY</td>\n",
       "      <td>Property Damage Crash</td>\n",
       "      <td>09/11/2015 01:29:00 PM</td>\n",
       "      <td>NaN</td>\n",
       "      <td>NaN</td>\n",
       "      <td>NaN</td>\n",
       "      <td>Parking Lot: \\n2525 Ennalls Ave</td>\n",
       "      <td>NaN</td>\n",
       "      <td>...</td>\n",
       "      <td>South</td>\n",
       "      <td>5</td>\n",
       "      <td>No</td>\n",
       "      <td>No</td>\n",
       "      <td>2012</td>\n",
       "      <td>TOYOTA</td>\n",
       "      <td>SU</td>\n",
       "      <td>39.039917</td>\n",
       "      <td>-77.053649</td>\n",
       "      <td>(39.03991652, -77.05364898)</td>\n",
       "    </tr>\n",
       "    <tr>\n",
       "      <th>2</th>\n",
       "      <td>MCP20160036</td>\n",
       "      <td>180040948</td>\n",
       "      <td>Montgomery County Police</td>\n",
       "      <td>Property Damage Crash</td>\n",
       "      <td>08/17/2018 02:25:00 PM</td>\n",
       "      <td>NaN</td>\n",
       "      <td>NaN</td>\n",
       "      <td>NaN</td>\n",
       "      <td>PARKING LOT OF 16246 FREDERICK RD</td>\n",
       "      <td>NaN</td>\n",
       "      <td>...</td>\n",
       "      <td>West</td>\n",
       "      <td>15</td>\n",
       "      <td>No</td>\n",
       "      <td>No</td>\n",
       "      <td>2015</td>\n",
       "      <td>MAZD</td>\n",
       "      <td>TK</td>\n",
       "      <td>38.743373</td>\n",
       "      <td>-77.546997</td>\n",
       "      <td>(38.743373, -77.54699707)</td>\n",
       "    </tr>\n",
       "    <tr>\n",
       "      <th>3</th>\n",
       "      <td>EJ7879003C</td>\n",
       "      <td>230048975</td>\n",
       "      <td>Gaithersburg Police Depar</td>\n",
       "      <td>Injury Crash</td>\n",
       "      <td>08/11/2023 06:00:00 PM</td>\n",
       "      <td>NaN</td>\n",
       "      <td>NaN</td>\n",
       "      <td>NaN</td>\n",
       "      <td>1 N SUMMIT DRIVE</td>\n",
       "      <td>NaN</td>\n",
       "      <td>...</td>\n",
       "      <td>Unknown</td>\n",
       "      <td>15</td>\n",
       "      <td>No</td>\n",
       "      <td>No</td>\n",
       "      <td>2018</td>\n",
       "      <td>RAM</td>\n",
       "      <td>TK</td>\n",
       "      <td>39.145873</td>\n",
       "      <td>-77.191940</td>\n",
       "      <td>(39.14587303, -77.19194047)</td>\n",
       "    </tr>\n",
       "    <tr>\n",
       "      <th>4</th>\n",
       "      <td>MCP2967004Y</td>\n",
       "      <td>230070277</td>\n",
       "      <td>Montgomery County Police</td>\n",
       "      <td>Property Damage Crash</td>\n",
       "      <td>12/06/2023 06:42:00 PM</td>\n",
       "      <td>Maryland (State)</td>\n",
       "      <td>CONNECTICUT AVE</td>\n",
       "      <td>BALTIMORE ST</td>\n",
       "      <td>NaN</td>\n",
       "      <td>KENSINGTON</td>\n",
       "      <td>...</td>\n",
       "      <td>South</td>\n",
       "      <td>35</td>\n",
       "      <td>No</td>\n",
       "      <td>No</td>\n",
       "      <td>2017</td>\n",
       "      <td>AUDI</td>\n",
       "      <td>A3</td>\n",
       "      <td>39.025170</td>\n",
       "      <td>-77.076333</td>\n",
       "      <td>(39.02517017, -77.07633333)</td>\n",
       "    </tr>\n",
       "  </tbody>\n",
       "</table>\n",
       "<p>5 rows × 39 columns</p>\n",
       "</div>"
      ],
      "text/plain": [
       "  report_number local_case_number                agency_name  \\\n",
       "0    DM8479000T         210020119  Takoma Park Police Depart   \n",
       "1   MCP2970000R          15045937                 MONTGOMERY   \n",
       "2   MCP20160036         180040948   Montgomery County Police   \n",
       "3    EJ7879003C         230048975  Gaithersburg Police Depar   \n",
       "4   MCP2967004Y         230070277   Montgomery County Police   \n",
       "\n",
       "        acrs_report_type         crash_date/time        route_type  \\\n",
       "0  Property Damage Crash  05/27/2021 07:40:00 PM               NaN   \n",
       "1  Property Damage Crash  09/11/2015 01:29:00 PM               NaN   \n",
       "2  Property Damage Crash  08/17/2018 02:25:00 PM               NaN   \n",
       "3           Injury Crash  08/11/2023 06:00:00 PM               NaN   \n",
       "4  Property Damage Crash  12/06/2023 06:42:00 PM  Maryland (State)   \n",
       "\n",
       "         road_name cross-street_name               off-road_description  \\\n",
       "0              NaN               NaN                     IN PARKING LOT   \n",
       "1              NaN               NaN    Parking Lot: \\n2525 Ennalls Ave   \n",
       "2              NaN               NaN  PARKING LOT OF 16246 FREDERICK RD   \n",
       "3              NaN               NaN                   1 N SUMMIT DRIVE   \n",
       "4  CONNECTICUT AVE      BALTIMORE ST                                NaN   \n",
       "\n",
       "  municipality  ... vehicle_going_dir speed_limit driverless_vehicle  \\\n",
       "0          NaN  ...               NaN           0                 No   \n",
       "1          NaN  ...             South           5                 No   \n",
       "2          NaN  ...              West          15                 No   \n",
       "3          NaN  ...           Unknown          15                 No   \n",
       "4   KENSINGTON  ...             South          35                 No   \n",
       "\n",
       "  parked_vehicle vehicle_year vehicle_make vehicle_model   latitude  \\\n",
       "0            Yes         2017         HINO           TWK  38.987657   \n",
       "1             No         2012       TOYOTA            SU  39.039917   \n",
       "2             No         2015         MAZD            TK  38.743373   \n",
       "3             No         2018          RAM            TK  39.145873   \n",
       "4             No         2017         AUDI            A3  39.025170   \n",
       "\n",
       "   longitude                     location  \n",
       "0 -76.987545    (38.98765667, -76.987545)  \n",
       "1 -77.053649  (39.03991652, -77.05364898)  \n",
       "2 -77.546997    (38.743373, -77.54699707)  \n",
       "3 -77.191940  (39.14587303, -77.19194047)  \n",
       "4 -77.076333  (39.02517017, -77.07633333)  \n",
       "\n",
       "[5 rows x 39 columns]"
      ]
     },
     "execution_count": 2,
     "metadata": {},
     "output_type": "execute_result"
    }
   ],
   "source": [
    "df = pd.read_csv(\"../montgomery.csv\",low_memory=False)#, parse_dates = [\"Crash Date/Time\"]).rename(columns = {\"Crash Date/Time\": \"date\"})\n",
    "# Standardize column names\n",
    "df.columns = df.columns.str.lower().str.replace(' ', '_')\n",
    "print(\"\\nDataset Shape (Rows, Columns):\", df.shape)\n",
    "print(\"\\nData preview: \")\n",
    "df.head()"
   ]
  },
  {
   "cell_type": "markdown",
   "id": "b8b9446a",
   "metadata": {},
   "source": [
    "## Feature inspection"
   ]
  },
  {
   "cell_type": "code",
   "execution_count": 3,
   "id": "8986fede",
   "metadata": {},
   "outputs": [
    {
     "data": {
      "text/plain": [
       "array(['report_number', 'local_case_number', 'agency_name',\n",
       "       'acrs_report_type', 'crash_date/time', 'route_type', 'road_name',\n",
       "       'cross-street_name', 'off-road_description', 'municipality',\n",
       "       'related_non-motorist', 'collision_type', 'weather',\n",
       "       'surface_condition', 'light', 'traffic_control',\n",
       "       'driver_substance_abuse', 'non-motorist_substance_abuse',\n",
       "       'person_id', 'driver_at_fault', 'injury_severity', 'circumstance',\n",
       "       'driver_distracted_by', 'drivers_license_state', 'vehicle_id',\n",
       "       'vehicle_damage_extent', 'vehicle_first_impact_location',\n",
       "       'vehicle_body_type', 'vehicle_movement', 'vehicle_going_dir',\n",
       "       'speed_limit', 'driverless_vehicle', 'parked_vehicle',\n",
       "       'vehicle_year', 'vehicle_make', 'vehicle_model', 'latitude',\n",
       "       'longitude', 'location'], dtype=object)"
      ]
     },
     "execution_count": 3,
     "metadata": {},
     "output_type": "execute_result"
    }
   ],
   "source": [
    "df.columns.values"
   ]
  },
  {
   "cell_type": "markdown",
   "id": "73342816",
   "metadata": {},
   "source": [
    "Rename crash_date/time column to make preprocessing easier."
   ]
  },
  {
   "cell_type": "code",
   "execution_count": 4,
   "id": "112ca089",
   "metadata": {},
   "outputs": [
    {
     "data": {
      "text/plain": [
       "array(['report_number', 'local_case_number', 'agency_name',\n",
       "       'acrs_report_type', 'date', 'route_type', 'road_name',\n",
       "       'cross-street_name', 'off-road_description', 'municipality',\n",
       "       'related_non-motorist', 'collision_type', 'weather',\n",
       "       'surface_condition', 'light', 'traffic_control',\n",
       "       'driver_substance_abuse', 'non-motorist_substance_abuse',\n",
       "       'person_id', 'driver_at_fault', 'injury_severity', 'circumstance',\n",
       "       'driver_distracted_by', 'drivers_license_state', 'vehicle_id',\n",
       "       'vehicle_damage_extent', 'vehicle_first_impact_location',\n",
       "       'vehicle_body_type', 'vehicle_movement', 'vehicle_going_dir',\n",
       "       'speed_limit', 'driverless_vehicle', 'parked_vehicle',\n",
       "       'vehicle_year', 'vehicle_make', 'vehicle_model', 'latitude',\n",
       "       'longitude', 'location'], dtype=object)"
      ]
     },
     "execution_count": 4,
     "metadata": {},
     "output_type": "execute_result"
    }
   ],
   "source": [
    "df.rename(columns={'crash_date/time': 'date'}, inplace=True)\n",
    "df.columns.values"
   ]
  },
  {
   "cell_type": "markdown",
   "id": "c346c683",
   "metadata": {},
   "source": [
    "## Duplicates"
   ]
  },
  {
   "cell_type": "code",
   "execution_count": 5,
   "id": "bfb43c27",
   "metadata": {},
   "outputs": [
    {
     "name": "stdout",
     "output_type": "stream",
     "text": [
      "Number of duplicate rows: 0\n"
     ]
    }
   ],
   "source": [
    "duplicates = df.duplicated().sum()\n",
    "print(f\"Number of duplicate rows: {duplicates}\")"
   ]
  },
  {
   "cell_type": "markdown",
   "id": "1d7961e4",
   "metadata": {},
   "source": [
    "There are several rows with the same Local case number. This is due to one accident involving multiple vehicles."
   ]
  },
  {
   "cell_type": "code",
   "execution_count": 6,
   "id": "184934ca",
   "metadata": {},
   "outputs": [
    {
     "name": "stdout",
     "output_type": "stream",
     "text": [
      "\n",
      "### Checking and Displaying Duplicate Rows Based on 'local_case_number' ###\n",
      "\n",
      "Duplicate rows based on 'local_case_number':\n",
      "\n"
     ]
    },
    {
     "data": {
      "text/html": [
       "<div>\n",
       "<style scoped>\n",
       "    .dataframe tbody tr th:only-of-type {\n",
       "        vertical-align: middle;\n",
       "    }\n",
       "\n",
       "    .dataframe tbody tr th {\n",
       "        vertical-align: top;\n",
       "    }\n",
       "\n",
       "    .dataframe thead th {\n",
       "        text-align: right;\n",
       "    }\n",
       "</style>\n",
       "<table border=\"1\" class=\"dataframe\">\n",
       "  <thead>\n",
       "    <tr style=\"text-align: right;\">\n",
       "      <th></th>\n",
       "      <th>report_number</th>\n",
       "      <th>local_case_number</th>\n",
       "      <th>agency_name</th>\n",
       "      <th>acrs_report_type</th>\n",
       "      <th>date</th>\n",
       "      <th>route_type</th>\n",
       "      <th>road_name</th>\n",
       "      <th>cross-street_name</th>\n",
       "      <th>off-road_description</th>\n",
       "      <th>municipality</th>\n",
       "      <th>...</th>\n",
       "      <th>vehicle_going_dir</th>\n",
       "      <th>speed_limit</th>\n",
       "      <th>driverless_vehicle</th>\n",
       "      <th>parked_vehicle</th>\n",
       "      <th>vehicle_year</th>\n",
       "      <th>vehicle_make</th>\n",
       "      <th>vehicle_model</th>\n",
       "      <th>latitude</th>\n",
       "      <th>longitude</th>\n",
       "      <th>location</th>\n",
       "    </tr>\n",
       "  </thead>\n",
       "  <tbody>\n",
       "    <tr>\n",
       "      <th>33702</th>\n",
       "      <td>EJ78670006</td>\n",
       "      <td>11032675</td>\n",
       "      <td>Gaithersburg Police Depar</td>\n",
       "      <td>Property Damage Crash</td>\n",
       "      <td>12/28/2016 09:01:00 AM</td>\n",
       "      <td>NaN</td>\n",
       "      <td>NaN</td>\n",
       "      <td>NaN</td>\n",
       "      <td>DRIVEWAY OF WALTER JOHNSON HIGH SCHOOL.</td>\n",
       "      <td>NaN</td>\n",
       "      <td>...</td>\n",
       "      <td>NaN</td>\n",
       "      <td>15</td>\n",
       "      <td>No</td>\n",
       "      <td>Yes</td>\n",
       "      <td>1997</td>\n",
       "      <td>FORD</td>\n",
       "      <td>F250</td>\n",
       "      <td>39.026475</td>\n",
       "      <td>-77.129234</td>\n",
       "      <td>(39.02647489, -77.12923363)</td>\n",
       "    </tr>\n",
       "    <tr>\n",
       "      <th>11026</th>\n",
       "      <td>EJ78670006</td>\n",
       "      <td>11032675</td>\n",
       "      <td>Gaithersburg Police Depar</td>\n",
       "      <td>Property Damage Crash</td>\n",
       "      <td>12/28/2016 09:01:00 AM</td>\n",
       "      <td>NaN</td>\n",
       "      <td>NaN</td>\n",
       "      <td>NaN</td>\n",
       "      <td>DRIVEWAY OF WALTER JOHNSON HIGH SCHOOL.</td>\n",
       "      <td>NaN</td>\n",
       "      <td>...</td>\n",
       "      <td>East</td>\n",
       "      <td>15</td>\n",
       "      <td>No</td>\n",
       "      <td>No</td>\n",
       "      <td>2005</td>\n",
       "      <td>THOMAS</td>\n",
       "      <td>SCHOOLBUS</td>\n",
       "      <td>39.026475</td>\n",
       "      <td>-77.129234</td>\n",
       "      <td>(39.02647489, -77.12923363)</td>\n",
       "    </tr>\n",
       "    <tr>\n",
       "      <th>7706</th>\n",
       "      <td>EJ78090040</td>\n",
       "      <td>1230063626</td>\n",
       "      <td>Gaithersburg Police Depar</td>\n",
       "      <td>Property Damage Crash</td>\n",
       "      <td>10/31/2023 03:41:00 PM</td>\n",
       "      <td>NaN</td>\n",
       "      <td>NaN</td>\n",
       "      <td>NaN</td>\n",
       "      <td>229 KENTLANDS BLVD. GAITHERSBURG, MD. 20878\\n(...</td>\n",
       "      <td>NaN</td>\n",
       "      <td>...</td>\n",
       "      <td>East</td>\n",
       "      <td>15</td>\n",
       "      <td>No</td>\n",
       "      <td>No</td>\n",
       "      <td>2009</td>\n",
       "      <td>NISS</td>\n",
       "      <td>4S</td>\n",
       "      <td>39.124979</td>\n",
       "      <td>-77.237916</td>\n",
       "      <td>(39.12497945, -77.23791584)</td>\n",
       "    </tr>\n",
       "    <tr>\n",
       "      <th>8918</th>\n",
       "      <td>EJ78090040</td>\n",
       "      <td>1230063626</td>\n",
       "      <td>Gaithersburg Police Depar</td>\n",
       "      <td>Property Damage Crash</td>\n",
       "      <td>10/31/2023 03:41:00 PM</td>\n",
       "      <td>NaN</td>\n",
       "      <td>NaN</td>\n",
       "      <td>NaN</td>\n",
       "      <td>229 KENTLANDS BLVD. GAITHERSBURG, MD. 20878\\n(...</td>\n",
       "      <td>NaN</td>\n",
       "      <td>...</td>\n",
       "      <td>South</td>\n",
       "      <td>15</td>\n",
       "      <td>No</td>\n",
       "      <td>No</td>\n",
       "      <td>2021</td>\n",
       "      <td>SUBA</td>\n",
       "      <td>SD</td>\n",
       "      <td>39.124979</td>\n",
       "      <td>-77.237916</td>\n",
       "      <td>(39.12497945, -77.23791584)</td>\n",
       "    </tr>\n",
       "    <tr>\n",
       "      <th>38187</th>\n",
       "      <td>DD56070011</td>\n",
       "      <td>14002582</td>\n",
       "      <td>Rockville Police Departme</td>\n",
       "      <td>Property Damage Crash</td>\n",
       "      <td>01/16/2015 03:14:00 PM</td>\n",
       "      <td>Maryland (State)</td>\n",
       "      <td>ROCKVILLE PIKE</td>\n",
       "      <td>SPUR TO TWINBROOK PKWY</td>\n",
       "      <td>NaN</td>\n",
       "      <td>NaN</td>\n",
       "      <td>...</td>\n",
       "      <td>North</td>\n",
       "      <td>45</td>\n",
       "      <td>No</td>\n",
       "      <td>No</td>\n",
       "      <td>2014</td>\n",
       "      <td>FORD</td>\n",
       "      <td>FUSION</td>\n",
       "      <td>39.058652</td>\n",
       "      <td>-77.121038</td>\n",
       "      <td>(39.05865167, -77.12103833)</td>\n",
       "    </tr>\n",
       "  </tbody>\n",
       "</table>\n",
       "<p>5 rows × 39 columns</p>\n",
       "</div>"
      ],
      "text/plain": [
       "      report_number local_case_number                agency_name  \\\n",
       "33702    EJ78670006          11032675  Gaithersburg Police Depar   \n",
       "11026    EJ78670006          11032675  Gaithersburg Police Depar   \n",
       "7706     EJ78090040        1230063626  Gaithersburg Police Depar   \n",
       "8918     EJ78090040        1230063626  Gaithersburg Police Depar   \n",
       "38187    DD56070011          14002582  Rockville Police Departme   \n",
       "\n",
       "            acrs_report_type                    date        route_type  \\\n",
       "33702  Property Damage Crash  12/28/2016 09:01:00 AM               NaN   \n",
       "11026  Property Damage Crash  12/28/2016 09:01:00 AM               NaN   \n",
       "7706   Property Damage Crash  10/31/2023 03:41:00 PM               NaN   \n",
       "8918   Property Damage Crash  10/31/2023 03:41:00 PM               NaN   \n",
       "38187  Property Damage Crash  01/16/2015 03:14:00 PM  Maryland (State)   \n",
       "\n",
       "            road_name       cross-street_name  \\\n",
       "33702             NaN                     NaN   \n",
       "11026             NaN                     NaN   \n",
       "7706              NaN                     NaN   \n",
       "8918              NaN                     NaN   \n",
       "38187  ROCKVILLE PIKE  SPUR TO TWINBROOK PKWY   \n",
       "\n",
       "                                    off-road_description municipality  ...  \\\n",
       "33702            DRIVEWAY OF WALTER JOHNSON HIGH SCHOOL.          NaN  ...   \n",
       "11026            DRIVEWAY OF WALTER JOHNSON HIGH SCHOOL.          NaN  ...   \n",
       "7706   229 KENTLANDS BLVD. GAITHERSBURG, MD. 20878\\n(...          NaN  ...   \n",
       "8918   229 KENTLANDS BLVD. GAITHERSBURG, MD. 20878\\n(...          NaN  ...   \n",
       "38187                                                NaN          NaN  ...   \n",
       "\n",
       "      vehicle_going_dir speed_limit driverless_vehicle parked_vehicle  \\\n",
       "33702               NaN          15                 No            Yes   \n",
       "11026              East          15                 No             No   \n",
       "7706               East          15                 No             No   \n",
       "8918              South          15                 No             No   \n",
       "38187             North          45                 No             No   \n",
       "\n",
       "      vehicle_year vehicle_make vehicle_model   latitude  longitude  \\\n",
       "33702         1997         FORD          F250  39.026475 -77.129234   \n",
       "11026         2005       THOMAS     SCHOOLBUS  39.026475 -77.129234   \n",
       "7706          2009         NISS            4S  39.124979 -77.237916   \n",
       "8918          2021         SUBA            SD  39.124979 -77.237916   \n",
       "38187         2014         FORD        FUSION  39.058652 -77.121038   \n",
       "\n",
       "                          location  \n",
       "33702  (39.02647489, -77.12923363)  \n",
       "11026  (39.02647489, -77.12923363)  \n",
       "7706   (39.12497945, -77.23791584)  \n",
       "8918   (39.12497945, -77.23791584)  \n",
       "38187  (39.05865167, -77.12103833)  \n",
       "\n",
       "[5 rows x 39 columns]"
      ]
     },
     "execution_count": 6,
     "metadata": {},
     "output_type": "execute_result"
    }
   ],
   "source": [
    "column_to_check = \"local_case_number\" \n",
    "\n",
    "if column_to_check in df.columns:\n",
    "    print(f\"\\n### Checking and Displaying Duplicate Rows Based on '{column_to_check}' ###\\n\")\n",
    "    duplicates = df[df.duplicated(subset=[column_to_check], keep=False)].sort_values(by=column_to_check)\n",
    "    \n",
    "    if duplicates.empty:\n",
    "        print(f\"No duplicate rows found based on '{column_to_check}'.\")\n",
    "    else:\n",
    "        print(f\"Duplicate rows based on '{column_to_check}':\\n\")\n",
    "else:\n",
    "    print(f\"Column '{column_to_check}' not found in the dataset.\")\n",
    "\n",
    "duplicates.head()"
   ]
  },
  {
   "cell_type": "markdown",
   "id": "437141ea",
   "metadata": {},
   "source": [
    "## Missing values "
   ]
  },
  {
   "cell_type": "code",
   "execution_count": 7,
   "id": "7b3588f5",
   "metadata": {},
   "outputs": [
    {
     "name": "stdout",
     "output_type": "stream",
     "text": [
      "\n",
      "### Missing Values by Column (Count and Percentage) ###\n",
      "\n",
      "Note that there are in total n.rows =  190824\n",
      "                               Missing Values  Percentage (%)\n",
      "non-motorist_substance_abuse           185819       97.377164\n",
      "related_non-motorist                   184673       96.776611\n",
      "off-road_description                   173218       90.773697\n",
      "municipality                           171698       89.977152\n",
      "circumstance                           154582       81.007630\n",
      "driver_substance_abuse                  31320       16.413030\n",
      "cross-street_name                       27658       14.493984\n",
      "traffic_control                         27097       14.199996\n",
      "surface_condition                       21860       11.455582\n",
      "road_name                               19960       10.459900\n",
      "route_type                              18644        9.770260\n",
      "weather                                 13356        6.999120\n",
      "drivers_license_state                   12062        6.321008\n",
      "vehicle_going_dir                        5778        3.027921\n",
      "vehicle_body_type                        2852        1.494571\n",
      "parked_vehicle                           1530        0.801786\n",
      "light                                    1445        0.757242\n",
      "driver_distracted_by                     1238        0.648765\n",
      "injury_severity                          1142        0.598457\n",
      "vehicle_movement                         1001        0.524567\n",
      "collision_type                            585        0.306565\n",
      "vehicle_model                             560        0.293464\n",
      "vehicle_make                              518        0.271454\n",
      "vehicle_damage_extent                     316        0.165598\n",
      "vehicle_first_impact_location             156        0.081751\n",
      "acrs_report_type                            0        0.000000\n",
      "agency_name                                 0        0.000000\n",
      "report_number                               0        0.000000\n",
      "date                                        0        0.000000\n",
      "local_case_number                           0        0.000000\n",
      "person_id                                   0        0.000000\n",
      "driver_at_fault                             0        0.000000\n",
      "vehicle_id                                  0        0.000000\n",
      "speed_limit                                 0        0.000000\n",
      "driverless_vehicle                          0        0.000000\n",
      "vehicle_year                                0        0.000000\n",
      "latitude                                    0        0.000000\n",
      "longitude                                   0        0.000000\n",
      "location                                    0        0.000000\n"
     ]
    }
   ],
   "source": [
    "# Table of missing values with percentages\n",
    "print(\"\\n### Missing Values by Column (Count and Percentage) ###\\n\")\n",
    "print(\"Note that there are in total n.rows = \", df.shape[0])\n",
    "\n",
    "# Calculate missing values count and percentage\n",
    "missing_values_table = df.isnull().sum()\n",
    "missing_values_percentage = (df.isnull().sum() / len(df)) * 100\n",
    "\n",
    "# Combine into a single DataFrame\n",
    "missing_summary = pd.DataFrame({\n",
    "    'Missing Values': missing_values_table,\n",
    "    'Percentage (%)': missing_values_percentage\n",
    "})\n",
    "\n",
    "# Sort the table by percentage of missing values (descending order)\n",
    "missing_summary = missing_summary.sort_values(by='Percentage (%)', ascending=False)\n",
    "\n",
    "# Display the table\n",
    "print(missing_summary)"
   ]
  },
  {
   "cell_type": "markdown",
   "id": "c1a7a022",
   "metadata": {},
   "source": [
    "There is a high percentage of missing values for columns like ```circumstance``` and ```municipality```."
   ]
  },
  {
   "cell_type": "code",
   "execution_count": 8,
   "id": "8fd3e252",
   "metadata": {},
   "outputs": [
    {
     "data": {
      "text/html": [
       "<div>\n",
       "<style scoped>\n",
       "    .dataframe tbody tr th:only-of-type {\n",
       "        vertical-align: middle;\n",
       "    }\n",
       "\n",
       "    .dataframe tbody tr th {\n",
       "        vertical-align: top;\n",
       "    }\n",
       "\n",
       "    .dataframe thead th {\n",
       "        text-align: right;\n",
       "    }\n",
       "</style>\n",
       "<table border=\"1\" class=\"dataframe\">\n",
       "  <thead>\n",
       "    <tr style=\"text-align: right;\">\n",
       "      <th></th>\n",
       "      <th>circumstance</th>\n",
       "      <th>surface_condition</th>\n",
       "    </tr>\n",
       "  </thead>\n",
       "  <tbody>\n",
       "    <tr>\n",
       "      <th>12</th>\n",
       "      <td>N/A, WET</td>\n",
       "      <td>NaN</td>\n",
       "    </tr>\n",
       "    <tr>\n",
       "      <th>16</th>\n",
       "      <td>ICY OR SNOW-COVERED, N/A</td>\n",
       "      <td>ICE</td>\n",
       "    </tr>\n",
       "    <tr>\n",
       "      <th>25</th>\n",
       "      <td>N/A, WET</td>\n",
       "      <td>WET</td>\n",
       "    </tr>\n",
       "    <tr>\n",
       "      <th>29</th>\n",
       "      <td>N/A, ROAD UNDER CONSTRUCTION/MAINTENANCE</td>\n",
       "      <td>DRY</td>\n",
       "    </tr>\n",
       "    <tr>\n",
       "      <th>33</th>\n",
       "      <td>N/A, WET</td>\n",
       "      <td>WET</td>\n",
       "    </tr>\n",
       "    <tr>\n",
       "      <th>...</th>\n",
       "      <td>...</td>\n",
       "      <td>...</td>\n",
       "    </tr>\n",
       "    <tr>\n",
       "      <th>190793</th>\n",
       "      <td>Failed to Yield Right-of-Way</td>\n",
       "      <td>Wet</td>\n",
       "    </tr>\n",
       "    <tr>\n",
       "      <th>190807</th>\n",
       "      <td>Followed Too Closely, Operated Motor Vehicle i...</td>\n",
       "      <td>NaN</td>\n",
       "    </tr>\n",
       "    <tr>\n",
       "      <th>190808</th>\n",
       "      <td>Failed to Keep in Proper Lane</td>\n",
       "      <td>Wet</td>\n",
       "    </tr>\n",
       "    <tr>\n",
       "      <th>190812</th>\n",
       "      <td>Too Fast For Conditions, Wrong Side</td>\n",
       "      <td>Wet</td>\n",
       "    </tr>\n",
       "    <tr>\n",
       "      <th>190814</th>\n",
       "      <td>Improper Turn</td>\n",
       "      <td>Wet</td>\n",
       "    </tr>\n",
       "  </tbody>\n",
       "</table>\n",
       "<p>36242 rows × 2 columns</p>\n",
       "</div>"
      ],
      "text/plain": [
       "                                             circumstance surface_condition\n",
       "12                                               N/A, WET               NaN\n",
       "16                               ICY OR SNOW-COVERED, N/A               ICE\n",
       "25                                               N/A, WET               WET\n",
       "29               N/A, ROAD UNDER CONSTRUCTION/MAINTENANCE               DRY\n",
       "33                                               N/A, WET               WET\n",
       "...                                                   ...               ...\n",
       "190793                       Failed to Yield Right-of-Way               Wet\n",
       "190807  Followed Too Closely, Operated Motor Vehicle i...               NaN\n",
       "190808                      Failed to Keep in Proper Lane               Wet\n",
       "190812                Too Fast For Conditions, Wrong Side               Wet\n",
       "190814                                      Improper Turn               Wet\n",
       "\n",
       "[36242 rows x 2 columns]"
      ]
     },
     "execution_count": 8,
     "metadata": {},
     "output_type": "execute_result"
    }
   ],
   "source": [
    "df[[\"circumstance\",\"surface_condition\"]][~df[\"circumstance\"].isna()]"
   ]
  },
  {
   "cell_type": "markdown",
   "id": "d4c73e42",
   "metadata": {},
   "source": [
    "Drop the columns that have a high percentage of missing values."
   ]
  },
  {
   "cell_type": "code",
   "execution_count": 9,
   "id": "65e2f6e8",
   "metadata": {},
   "outputs": [
    {
     "name": "stdout",
     "output_type": "stream",
     "text": [
      "N.of columns:  34\n"
     ]
    }
   ],
   "source": [
    "columns_to_drop = [\"non-motorist_substance_abuse\",\"related_non-motorist\",\"off-road_description\", \"municipality\", \"circumstance\"]\n",
    "# Drop the identified columns\n",
    "df.drop(columns=columns_to_drop, inplace=True)\n",
    "print(\"N.of columns: \",df.shape[1])"
   ]
  },
  {
   "cell_type": "markdown",
   "id": "937ea325",
   "metadata": {},
   "source": [
    "## Date column\n",
    "Date column should contain only date time objects and is split in columns:\n",
    "\n",
    "- year\n",
    "- month\n",
    "- day\n",
    "- time"
   ]
  },
  {
   "cell_type": "code",
   "execution_count": 10,
   "id": "6f6f8685",
   "metadata": {},
   "outputs": [
    {
     "name": "stdout",
     "output_type": "stream",
     "text": [
      "\n",
      "### Converted Date Column ###\n",
      "\n",
      "before:\n",
      "object\n",
      "05/27/2021 07:40:00 PM\n",
      "\n",
      "after:\n",
      "datetime64[ns]\n",
      "2021-05-27 19:40:00\n"
     ]
    }
   ],
   "source": [
    "# Print the DataFrame\n",
    "print(\"\\n### Converted Date Column ###\\n\")\n",
    "print(\"before:\")\n",
    "print(df[\"date\"].dtypes)\n",
    "print(df[\"date\"][0])\n",
    "\n",
    "df['date'] = pd.to_datetime(df['date'], format='%m/%d/%Y %I:%M:%S %p', errors='coerce')\n",
    "\n",
    "print(\"\\nafter:\")\n",
    "print(df[\"date\"].dtypes)\n",
    "print(df[\"date\"][0])"
   ]
  },
  {
   "cell_type": "code",
   "execution_count": 11,
   "id": "102bf639",
   "metadata": {},
   "outputs": [],
   "source": [
    "df['day'] = df['date'].dt.day\n",
    "df['year'] = df['date'].dt.year\n",
    "df['month'] = df['date'].dt.month\n",
    "df['time'] = df['date'].dt.strftime('%H:%M:%S')"
   ]
  },
  {
   "cell_type": "code",
   "execution_count": 12,
   "id": "a0e688a8",
   "metadata": {},
   "outputs": [
    {
     "data": {
      "text/html": [
       "<div>\n",
       "<style scoped>\n",
       "    .dataframe tbody tr th:only-of-type {\n",
       "        vertical-align: middle;\n",
       "    }\n",
       "\n",
       "    .dataframe tbody tr th {\n",
       "        vertical-align: top;\n",
       "    }\n",
       "\n",
       "    .dataframe thead th {\n",
       "        text-align: right;\n",
       "    }\n",
       "</style>\n",
       "<table border=\"1\" class=\"dataframe\">\n",
       "  <thead>\n",
       "    <tr style=\"text-align: right;\">\n",
       "      <th></th>\n",
       "      <th>date</th>\n",
       "      <th>year</th>\n",
       "      <th>month</th>\n",
       "      <th>time</th>\n",
       "    </tr>\n",
       "  </thead>\n",
       "  <tbody>\n",
       "    <tr>\n",
       "      <th>0</th>\n",
       "      <td>2021-05-27 19:40:00</td>\n",
       "      <td>2021</td>\n",
       "      <td>5</td>\n",
       "      <td>19:40:00</td>\n",
       "    </tr>\n",
       "    <tr>\n",
       "      <th>1</th>\n",
       "      <td>2015-09-11 13:29:00</td>\n",
       "      <td>2015</td>\n",
       "      <td>9</td>\n",
       "      <td>13:29:00</td>\n",
       "    </tr>\n",
       "    <tr>\n",
       "      <th>2</th>\n",
       "      <td>2018-08-17 14:25:00</td>\n",
       "      <td>2018</td>\n",
       "      <td>8</td>\n",
       "      <td>14:25:00</td>\n",
       "    </tr>\n",
       "    <tr>\n",
       "      <th>3</th>\n",
       "      <td>2023-08-11 18:00:00</td>\n",
       "      <td>2023</td>\n",
       "      <td>8</td>\n",
       "      <td>18:00:00</td>\n",
       "    </tr>\n",
       "    <tr>\n",
       "      <th>4</th>\n",
       "      <td>2023-12-06 18:42:00</td>\n",
       "      <td>2023</td>\n",
       "      <td>12</td>\n",
       "      <td>18:42:00</td>\n",
       "    </tr>\n",
       "  </tbody>\n",
       "</table>\n",
       "</div>"
      ],
      "text/plain": [
       "                 date  year  month      time\n",
       "0 2021-05-27 19:40:00  2021      5  19:40:00\n",
       "1 2015-09-11 13:29:00  2015      9  13:29:00\n",
       "2 2018-08-17 14:25:00  2018      8  14:25:00\n",
       "3 2023-08-11 18:00:00  2023      8  18:00:00\n",
       "4 2023-12-06 18:42:00  2023     12  18:42:00"
      ]
     },
     "execution_count": 12,
     "metadata": {},
     "output_type": "execute_result"
    }
   ],
   "source": [
    "df[[\"date\", \"year\", \"month\", \"time\"]].head()"
   ]
  },
  {
   "cell_type": "markdown",
   "id": "3186c35c",
   "metadata": {},
   "source": [
    "Save clean data to CSV."
   ]
  },
  {
   "cell_type": "code",
   "execution_count": 13,
   "id": "912e1a1f",
   "metadata": {},
   "outputs": [],
   "source": [
    "df.to_csv(\"../clean_data.csv\", index=False)"
   ]
  },
  {
   "cell_type": "markdown",
   "id": "3b0ca064",
   "metadata": {},
   "source": [
    "# Exploratory data analysis"
   ]
  },
  {
   "cell_type": "markdown",
   "id": "316b1681",
   "metadata": {},
   "source": [
    "## Baseline definition for data analysis"
   ]
  },
  {
   "cell_type": "markdown",
   "id": "b3c4d4b2",
   "metadata": {},
   "source": [
    "We can see a clear division between before and after 2020 in terms of number of accidents. Probably due to the pandemic."
   ]
  },
  {
   "cell_type": "code",
   "execution_count": 14,
   "id": "6826336c",
   "metadata": {},
   "outputs": [
    {
     "data": {
      "image/png": "[encoded data removed]",
      "text/plain": [
       "<Figure size 640x480 with 1 Axes>"
      ]
     },
     "metadata": {},
     "output_type": "display_data"
    }
   ],
   "source": [
    "fig, ax = plt.subplots()\n",
    "\n",
    "df[df[\"year\"] != 2025].groupby(\"year\").size().plot(\n",
    "    ax=ax,\n",
    "    kind=\"bar\",\n",
    "    xlabel=\"\",\n",
    "    ylabel=\"NoA\",\n",
    "    rot=45,\n",
    "    color=\"gray\",\n",
    ")\n",
    "\n",
    "for i, color in enumerate([\"#4a2377\", \"#f55f74\", \"#8cc5e3\", \"#0d7d87\"]):\n",
    "    ax.get_children()[6 + i].set_color(color)\n",
    "\n",
    "plt.savefig(\"../fig/accidents_per_year.pdf\")"
   ]
  },
  {
   "cell_type": "markdown",
   "id": "7dfa12de",
   "metadata": {},
   "source": [
    "Similar frequency in terms of NoA depending on the season."
   ]
  },
  {
   "cell_type": "code",
   "execution_count": 15,
   "id": "8a1216ab",
   "metadata": {},
   "outputs": [
    {
     "data": {
      "image/png": "[encoded data removed]",
      "text/plain": [
       "<Figure size 640x480 with 4 Axes>"
      ]
     },
     "metadata": {},
     "output_type": "display_data"
    }
   ],
   "source": [
    "fig, axes = plt.subplots(2, 2, sharey=True, layout=\"constrained\")\n",
    "\n",
    "years = [2021, 2022, 2023, 2024]\n",
    "\n",
    "for year, ax, color in zip(years, axes.ravel(), [\"#4a2377\", \"#f55f74\", \"#8cc5e3\", \"#0d7d87\"]):\n",
    "    df[df[\"year\"] == year].groupby(\"month\").size().plot(\n",
    "                ax=ax,\n",
    "                kind=\"bar\",\n",
    "                xlabel=\"\",\n",
    "                ylabel=\"NoA\",\n",
    "                title=year,\n",
    "                color=color,\n",
    "                rot=45,\n",
    "            )\n",
    "\n",
    "    ax.set_xticklabels(\"Jan Feb Mar Apr May Jun Jul Aug Sep Oct Nov Dec\".split())\n",
    "\n",
    "plt.savefig(\"../fig/accidents_per_month.pdf\")"
   ]
  },
  {
   "cell_type": "markdown",
   "id": "2c6cba48",
   "metadata": {
    "jp-MarkdownHeadingCollapsed": true
   },
   "source": [
    "## Impact of driver condition on NoA\n",
    "\n",
    "**Results from this section were not included in the final report due to the limited page count but were presented to the tutor during one of the meetings*.*"
   ]
  },
  {
   "cell_type": "markdown",
   "id": "eb68f9fa",
   "metadata": {},
   "source": [
    "For the data exploration purposes we look at column ```driver_substance_abuse```."
   ]
  },
  {
   "cell_type": "code",
   "execution_count": 16,
   "id": "11f2bba2",
   "metadata": {},
   "outputs": [
    {
     "data": {
      "text/plain": [
       "array(['NONE DETECTED', 'UNKNOWN', nan, 'ALCOHOL CONTRIBUTED',\n",
       "       'ALCOHOL PRESENT', 'COMBINATION CONTRIBUTED',\n",
       "       'COMBINED SUBSTANCE PRESENT', 'ILLEGAL DRUG CONTRIBUTED',\n",
       "       'ILLEGAL DRUG PRESENT', 'MEDICATION CONTRIBUTED',\n",
       "       'MEDICATION PRESENT', 'OTHER', 'Unknown, Unknown',\n",
       "       'Not Suspect of Alcohol Use, Not Suspect of Drug Use',\n",
       "       'Suspect of Alcohol Use, Not Suspect of Drug Use',\n",
       "       'Suspect of Alcohol Use, Unknown',\n",
       "       'Not Suspect of Alcohol Use, Suspect of Drug Use',\n",
       "       'Unknown, Not Suspect of Drug Use',\n",
       "       'Suspect of Alcohol Use, Suspect of Drug Use',\n",
       "       'Not Suspect of Alcohol Use, Unknown',\n",
       "       'Unknown, Suspect of Drug Use'], dtype=object)"
      ]
     },
     "execution_count": 16,
     "metadata": {},
     "output_type": "execute_result"
    }
   ],
   "source": [
    "df[\"driver_substance_abuse\"].unique()"
   ]
  },
  {
   "cell_type": "markdown",
   "id": "cd546c2a",
   "metadata": {},
   "source": [
    "We standardize the column values for better data visualization"
   ]
  },
  {
   "cell_type": "code",
   "execution_count": 17,
   "id": "a2a8d7f5",
   "metadata": {},
   "outputs": [],
   "source": [
    "df[\"driver_substance_abuse\"]=df[\"driver_substance_abuse\"].fillna('unknown')"
   ]
  },
  {
   "cell_type": "code",
   "execution_count": 18,
   "id": "97228808",
   "metadata": {},
   "outputs": [
    {
     "data": {
      "text/plain": [
       "array(['none', 'unknown', 'alcohol', 'combination of substances',\n",
       "       'illegal drugs', 'medications', 'other', 'suspect of alcohol',\n",
       "       'suspect of drug'], dtype=object)"
      ]
     },
     "execution_count": 18,
     "metadata": {},
     "output_type": "execute_result"
    }
   ],
   "source": [
    "df[\"driver_substance_abuse\"] = df[\"driver_substance_abuse\"].replace([\"UNKNOWN\", \"Unknown, Unknown\", \"Unknown, Not Suspect of Drug Use\", \"Not Suspect of Alcohol Use, Unknown\"], 'unknown')\n",
    "df[\"driver_substance_abuse\"] = df[\"driver_substance_abuse\"].replace([\"MEDICATION PRESENT\", \"MEDICATION CONTRIBUTED\"], 'medications')\n",
    "df[\"driver_substance_abuse\"] = df[\"driver_substance_abuse\"].replace([\"ALCOHOL PRESENT\", \"ALCOHOL CONTRIBUTED\",\"Suspect of Alcohol Use, Suspect of Drug Use\"], 'alcohol')\n",
    "df[\"driver_substance_abuse\"] = df[\"driver_substance_abuse\"].replace([\"ILLEGAL DRUG CONTRIBUTED\", \"ILLEGAL DRUG PRESENT\"], 'illegal drugs')\n",
    "df[\"driver_substance_abuse\"] = df[\"driver_substance_abuse\"].replace([\"Not Suspect of Alcohol Use, Not Suspect of Drug Use\", \"OTHER\"], 'other')\n",
    "df[\"driver_substance_abuse\"] = df[\"driver_substance_abuse\"].replace([\"COMBINATION CONTRIBUTED\", \"COMBINED SUBSTANCE PRESENT\"], 'combination of substances')\n",
    "df[\"driver_substance_abuse\"] = df[\"driver_substance_abuse\"].replace([\"Suspect of Alcohol Use, Unknown\", \"Suspect of Alcohol Use, Not Suspect of Drug Use\"], 'suspect of alcohol')\n",
    "df[\"driver_substance_abuse\"] = df[\"driver_substance_abuse\"].replace([\"Not Suspect of Alcohol Use, Suspect of Drug Use\", \"Unknown, Suspect of Drug Use\"], 'suspect of drug')\n",
    "df[\"driver_substance_abuse\"] = df[\"driver_substance_abuse\"].replace([\"NONE DETECTED\"], 'none')\n",
    "df['driver_substance_abuse'] = df['driver_substance_abuse'].str.lower()\n",
    "df[\"driver_substance_abuse\"].unique()"
   ]
  },
  {
   "cell_type": "code",
   "execution_count": 19,
   "id": "0a021809",
   "metadata": {},
   "outputs": [
    {
     "name": "stdout",
     "output_type": "stream",
     "text": [
      "'suspect of alcohol': 0.01%\n",
      "'suspect of drug': 0.28%\n"
     ]
    }
   ],
   "source": [
    "# Calculate the number of rows where column A has the value 'OTHER'\n",
    "count_susp_drug = (df['driver_substance_abuse'] == 'suspect of alcohol').sum()\n",
    "count_susp_alcohol = (df['driver_substance_abuse'] == 'suspect of drug').sum()\n",
    "\n",
    "# Calculate the percentage\n",
    "percentage_al = (count_susp_alcohol / df.shape[0]) * 100\n",
    "percentage_drug = (count_susp_drug / df.shape[0]) * 100\n",
    "\n",
    "# Print the result\n",
    "print(f\"'suspect of alcohol': {percentage_al:.2f}%\")\n",
    "print(f\"'suspect of drug': {percentage_drug:.2f}%\")\n",
    "#df[df[\"driver_substance_abuse\"]==\"suspect of drug\"]"
   ]
  },
  {
   "cell_type": "code",
   "execution_count": 20,
   "id": "71c90bc9",
   "metadata": {},
   "outputs": [
    {
     "data": {
      "image/svg+xml": [
       "<svg class=\"main-svg\" xmlns=\"http://www.w3.org/2000/svg\" xmlns:xlink=\"http://www.w3.org/1999/xlink\" width=\"600\" height=\"400\" style=\"\" viewBox=\"0 0 600 400\"><rect x=\"0\" y=\"0\" width=\"600\" height=\"400\" style=\"fill: rgb(255, 255, 255); fill-opacity: 1;\"/><defs id=\"defs-77a0af\"><g class=\"clips\"/><g class=\"gradients\"/><g class=\"patterns\"/></defs><g class=\"bglayer\"/><g class=\"layer-below\"><g class=\"imagelayer\"/><g class=\"shapelayer\"/></g><g class=\"cartesianlayer\"/><g class=\"polarlayer\"/><g class=\"smithlayer\"/><g class=\"ternarylayer\"/><g class=\"geolayer\"/><g class=\"funnelarealayer\"/><g class=\"pielayer\"><g class=\"trace\" stroke-linejoin=\"round\" style=\"opacity: 1;\"><g class=\"slice\"><path class=\"surface\" d=\"M237,210l0,-110a110,110 0 1 1 -85.71261909062765,178.94452065701068Z\" style=\"pointer-events: none; fill: rgb(31, 119, 180); fill-opacity: 1; stroke-width: 0; stroke: rgb(68, 68, 68); stroke-opacity: 1;\"/><g class=\"slicetext\"><text data-notex=\"1\" class=\"slicetext\" transform=\"translate(286.43923536449586,237.75947897084663)\" text-anchor=\"middle\" x=\"0\" y=\"0\" style=\"font-family: 'Open Sans', verdana, arial, sans-serif; font-size: 12px; fill: rgb(255, 255, 255); fill-opacity: 1; white-space: pre;\">64.2%</text></g></g><g class=\"slice\"><path class=\"surface\" d=\"M237,210l-109.657573748854,-8.67274578865564a110,110 0 0 1 109.657573748854,-101.32725421134435Z\" style=\"pointer-events: none; fill: rgb(255, 127, 14); fill-opacity: 1; stroke-width: 0; stroke: rgb(68, 68, 68); stroke-opacity: 1;\"/><g class=\"slicetext\"><text data-notex=\"1\" class=\"slicetext\" transform=\"translate(192.36442254307033,165.87239140082409)\" text-anchor=\"middle\" x=\"0\" y=\"0\" style=\"font-family: 'Open Sans', verdana, arial, sans-serif; font-size: 12px; fill: rgb(68, 68, 68); fill-opacity: 1; white-space: pre;\">23.7%</text></g></g><g class=\"slice\"><path class=\"surface\" d=\"M237,210l-98.87962047060606,48.19564975792839a110,110 0 0 1 -10.77795327824795,-56.86839554658403Z\" style=\"pointer-events: none; fill: rgb(44, 160, 44); fill-opacity: 1; stroke-width: 0; stroke: rgb(68, 68, 68); stroke-opacity: 1;\"/><g class=\"slicetext\"><text data-notex=\"1\" class=\"slicetext\" transform=\"translate(151.27137631261724,230.21657924208475)\" text-anchor=\"middle\" x=\"0\" y=\"0\" style=\"font-family: 'Open Sans', verdana, arial, sans-serif; font-size: 12px; fill: rgb(255, 255, 255); fill-opacity: 1; white-space: pre;\">8.47%</text></g></g><g class=\"slice\"><path class=\"surface\" d=\"M237,210l-88.46610381483183,65.3739128079649a110,110 0 0 1 -10.413516655774231,-17.178263050036506Z\" style=\"pointer-events: none; fill: rgb(214, 39, 40); fill-opacity: 1; stroke-width: 0; stroke: rgb(68, 68, 68); stroke-opacity: 1;\"/><g class=\"slicetext\"><text data-notex=\"1\" class=\"slicetext\" transform=\"translate(122.09043111575869,272.90409635866513)\" text-anchor=\"middle\" x=\"0\" y=\"0\" style=\"font-family: 'Open Sans', verdana, arial, sans-serif; font-size: 12px; fill: rgb(42, 63, 95); fill-opacity: 1; white-space: pre;\">2.91%</text></g></g><g class=\"slice\"><path class=\"surface\" d=\"M237,210l-87.29421739600676,66.93070752067925a110,110 0 0 1 -1.1718864188250677,-1.5567947127143498Z\" style=\"pointer-events: none; fill: rgb(148, 103, 189); fill-opacity: 1; stroke-width: 0; stroke: rgb(68, 68, 68); stroke-opacity: 1;\"/><g class=\"slicetext\"><text data-notex=\"1\" class=\"slicetext\" transform=\"translate(124.9288921400659,286.90409635866513)\" text-anchor=\"middle\" x=\"0\" y=\"0\" style=\"font-family: 'Open Sans', verdana, arial, sans-serif; font-size: 12px; fill: rgb(42, 63, 95); fill-opacity: 1; white-space: pre;\">0.282%</text></g><path class=\"textline\" stroke-width=\"1.5\" d=\"M149.1163921400659,276.15490510552735V282.90409635866513h-3.5\" fill=\"none\" style=\"stroke: rgb(42, 63, 95); stroke-opacity: 1;\"/></g><g class=\"slice\"><path class=\"surface\" d=\"M237,210l-86.4924973470321,67.96357776540053a110,110 0 0 1 -0.8017200489746585,-1.0328702447212805Z\" style=\"pointer-events: none; fill: rgb(140, 86, 75); fill-opacity: 1; stroke-width: 0; stroke: rgb(68, 68, 68); stroke-opacity: 1;\"/><g class=\"slicetext\"><text data-notex=\"1\" class=\"slicetext\" transform=\"translate(125.91760797215869,300.90409635866513)\" text-anchor=\"middle\" x=\"0\" y=\"0\" style=\"font-family: 'Open Sans', verdana, arial, sans-serif; font-size: 12px; fill: rgb(42, 63, 95); fill-opacity: 1; white-space: pre;\">0.189%</text></g><path class=\"textline\" stroke-width=\"1.5\" d=\"M150.1051079721587,277.44833385243703V296.90409635866513h-3.5\" fill=\"none\" style=\"stroke: rgb(42, 63, 95); stroke-opacity: 1;\"/></g><g class=\"slice\"><path class=\"surface\" d=\"M237,210l-86.08592020752481,68.47783832762006a110,110 0 0 1 -0.40657713950729146,-0.5142605622195333Z\" style=\"pointer-events: none; fill: rgb(227, 119, 194); fill-opacity: 1; stroke-width: 0; stroke: rgb(68, 68, 68); stroke-opacity: 1;\"/><g class=\"slicetext\"><text data-notex=\"1\" class=\"slicetext\" transform=\"translate(123.17915811667834,314.90409635866513)\" text-anchor=\"middle\" x=\"0\" y=\"0\" style=\"font-family: 'Open Sans', verdana, arial, sans-serif; font-size: 12px; fill: rgb(42, 63, 95); fill-opacity: 1; white-space: pre;\">0.0949%</text></g><path class=\"textline\" stroke-width=\"1.5\" d=\"M150.71040811667834,278.2210109321885V310.90409635866513h-3.5\" fill=\"none\" style=\"stroke: rgb(42, 63, 95); stroke-opacity: 1;\"/></g><g class=\"slice\"><path class=\"surface\" d=\"M237,210l-85.77161049735653,68.87111755075387a110,110 0 0 1 -0.31430971016827414,-0.3932792231338027Z\" style=\"pointer-events: none; fill: rgb(127, 127, 127); fill-opacity: 1; stroke-width: 0; stroke: rgb(68, 68, 68); stroke-opacity: 1;\"/><g class=\"slicetext\"><text data-notex=\"1\" class=\"slicetext\" transform=\"translate(123.53975965255296,328.90409635866513)\" text-anchor=\"middle\" x=\"0\" y=\"0\" style=\"font-family: 'Open Sans', verdana, arial, sans-serif; font-size: 12px; fill: rgb(42, 63, 95); fill-opacity: 1; white-space: pre;\">0.0728%</text></g><path class=\"textline\" stroke-width=\"1.5\" d=\"M151.07100965255296,278.67465775574243V324.90409635866513h-3.5\" fill=\"none\" style=\"stroke: rgb(42, 63, 95); stroke-opacity: 1;\"/></g><g class=\"slice\"><path class=\"surface\" d=\"M237,210l-85.71261909062764,68.9445206570107a110,110 0 0 1 -0.058991406728893026,-0.07340310625683344Z\" style=\"pointer-events: none; fill: rgb(188, 189, 34); fill-opacity: 1; stroke-width: 0; stroke: rgb(68, 68, 68); stroke-opacity: 1;\"/><g class=\"slicetext\"><text data-notex=\"1\" class=\"slicetext\" transform=\"translate(123.72662735103523,342.90409635866513)\" text-anchor=\"middle\" x=\"0\" y=\"0\" style=\"font-family: 'Open Sans', verdana, arial, sans-serif; font-size: 12px; fill: rgb(42, 63, 95); fill-opacity: 1; white-space: pre;\">0.0136%</text></g><path class=\"textline\" stroke-width=\"1.5\" d=\"M151.25787735103523,278.90782541663816V338.90409635866513h-3.5\" fill=\"none\" style=\"stroke: rgb(42, 63, 95); stroke-opacity: 1;\"/></g></g></g><g class=\"iciclelayer\"/><g class=\"treemaplayer\"/><g class=\"sunburstlayer\"/><g class=\"glimages\"/><defs id=\"topdefs-77a0af\"><g class=\"clips\"/><clipPath id=\"legend77a0af\"><rect width=\"188\" height=\"181\" x=\"0\" y=\"0\"/></clipPath></defs><g class=\"layer-above\"><g class=\"imagelayer\"/><g class=\"shapelayer\"/></g><g class=\"infolayer\"><g class=\"legend\" pointer-events=\"all\" transform=\"translate(400.28000000000003,100)\"><rect class=\"bg\" shape-rendering=\"crispEdges\" style=\"stroke: rgb(68, 68, 68); stroke-opacity: 1; fill: rgb(255, 255, 255); fill-opacity: 1; stroke-width: 0px;\" width=\"188\" height=\"181\" x=\"0\" y=\"0\"/><g class=\"scrollbox\" transform=\"\" clip-path=\"url(#legend77a0af)\"><g class=\"groups\"><g class=\"traces\" transform=\"translate(0,14.5)\" style=\"opacity: 1;\"><text class=\"legendtext\" text-anchor=\"start\" x=\"40\" y=\"4.680000000000001\" style=\"font-family: 'Open Sans', verdana, arial, sans-serif; font-size: 12px; fill: rgb(42, 63, 95); fill-opacity: 1; white-space: pre;\">none</text><g class=\"layers\" style=\"opacity: 1;\"><g class=\"legendfill\"/><g class=\"legendlines\"/><g class=\"legendsymbols\"><g class=\"legendpoints\"><path class=\"legendpie\" d=\"M6,6H-6V-6H6Z\" transform=\"translate(20,0)\" style=\"fill: rgb(31, 119, 180); fill-opacity: 1; stroke-width: 0; stroke: rgb(68, 68, 68); stroke-opacity: 1;\"/></g></g></g><rect class=\"legendtoggle\" x=\"0\" y=\"-9.5\" width=\"182.09375\" height=\"19\" style=\"fill: rgb(0, 0, 0); fill-opacity: 0;\"/></g><g class=\"traces\" transform=\"translate(0,33.5)\" style=\"opacity: 1;\"><text class=\"legendtext\" text-anchor=\"start\" x=\"40\" y=\"4.680000000000001\" style=\"font-family: 'Open Sans', verdana, arial, sans-serif; font-size: 12px; fill: rgb(42, 63, 95); fill-opacity: 1; white-space: pre;\">unknown</text><g class=\"layers\" style=\"opacity: 1;\"><g class=\"legendfill\"/><g class=\"legendlines\"/><g class=\"legendsymbols\"><g class=\"legendpoints\"><path class=\"legendpie\" d=\"M6,6H-6V-6H6Z\" transform=\"translate(20,0)\" style=\"fill: rgb(255, 127, 14); fill-opacity: 1; stroke-width: 0; stroke: rgb(68, 68, 68); stroke-opacity: 1;\"/></g></g></g><rect class=\"legendtoggle\" x=\"0\" y=\"-9.5\" width=\"182.09375\" height=\"19\" style=\"fill: rgb(0, 0, 0); fill-opacity: 0;\"/></g><g class=\"traces\" transform=\"translate(0,52.5)\" style=\"opacity: 1;\"><text class=\"legendtext\" text-anchor=\"start\" x=\"40\" y=\"4.680000000000001\" style=\"font-family: 'Open Sans', verdana, arial, sans-serif; font-size: 12px; fill: rgb(42, 63, 95); fill-opacity: 1; white-space: pre;\">other</text><g class=\"layers\" style=\"opacity: 1;\"><g class=\"legendfill\"/><g class=\"legendlines\"/><g class=\"legendsymbols\"><g class=\"legendpoints\"><path class=\"legendpie\" d=\"M6,6H-6V-6H6Z\" transform=\"translate(20,0)\" style=\"fill: rgb(44, 160, 44); fill-opacity: 1; stroke-width: 0; stroke: rgb(68, 68, 68); stroke-opacity: 1;\"/></g></g></g><rect class=\"legendtoggle\" x=\"0\" y=\"-9.5\" width=\"182.09375\" height=\"19\" style=\"fill: rgb(0, 0, 0); fill-opacity: 0;\"/></g><g class=\"traces\" transform=\"translate(0,71.5)\" style=\"opacity: 1;\"><text class=\"legendtext\" text-anchor=\"start\" x=\"40\" y=\"4.680000000000001\" style=\"font-family: 'Open Sans', verdana, arial, sans-serif; font-size: 12px; fill: rgb(42, 63, 95); fill-opacity: 1; white-space: pre;\">alcohol</text><g class=\"layers\" style=\"opacity: 1;\"><g class=\"legendfill\"/><g class=\"legendlines\"/><g class=\"legendsymbols\"><g class=\"legendpoints\"><path class=\"legendpie\" d=\"M6,6H-6V-6H6Z\" transform=\"translate(20,0)\" style=\"fill: rgb(214, 39, 40); fill-opacity: 1; stroke-width: 0; stroke: rgb(68, 68, 68); stroke-opacity: 1;\"/></g></g></g><rect class=\"legendtoggle\" x=\"0\" y=\"-9.5\" width=\"182.09375\" height=\"19\" style=\"fill: rgb(0, 0, 0); fill-opacity: 0;\"/></g><g class=\"traces\" transform=\"translate(0,90.5)\" style=\"opacity: 1;\"><text class=\"legendtext\" text-anchor=\"start\" x=\"40\" y=\"4.680000000000001\" style=\"font-family: 'Open Sans', verdana, arial, sans-serif; font-size: 12px; fill: rgb(42, 63, 95); fill-opacity: 1; white-space: pre;\">suspect of alcohol</text><g class=\"layers\" style=\"opacity: 1;\"><g class=\"legendfill\"/><g class=\"legendlines\"/><g class=\"legendsymbols\"><g class=\"legendpoints\"><path class=\"legendpie\" d=\"M6,6H-6V-6H6Z\" transform=\"translate(20,0)\" style=\"fill: rgb(148, 103, 189); fill-opacity: 1; stroke-width: 0; stroke: rgb(68, 68, 68); stroke-opacity: 1;\"/></g></g></g><rect class=\"legendtoggle\" x=\"0\" y=\"-9.5\" width=\"182.09375\" height=\"19\" style=\"fill: rgb(0, 0, 0); fill-opacity: 0;\"/></g><g class=\"traces\" transform=\"translate(0,109.5)\" style=\"opacity: 1;\"><text class=\"legendtext\" text-anchor=\"start\" x=\"40\" y=\"4.680000000000001\" style=\"font-family: 'Open Sans', verdana, arial, sans-serif; font-size: 12px; fill: rgb(42, 63, 95); fill-opacity: 1; white-space: pre;\">illegal drugs</text><g class=\"layers\" style=\"opacity: 1;\"><g class=\"legendfill\"/><g class=\"legendlines\"/><g class=\"legendsymbols\"><g class=\"legendpoints\"><path class=\"legendpie\" d=\"M6,6H-6V-6H6Z\" transform=\"translate(20,0)\" style=\"fill: rgb(140, 86, 75); fill-opacity: 1; stroke-width: 0; stroke: rgb(68, 68, 68); stroke-opacity: 1;\"/></g></g></g><rect class=\"legendtoggle\" x=\"0\" y=\"-9.5\" width=\"182.09375\" height=\"19\" style=\"fill: rgb(0, 0, 0); fill-opacity: 0;\"/></g><g class=\"traces\" transform=\"translate(0,128.5)\" style=\"opacity: 1;\"><text class=\"legendtext\" text-anchor=\"start\" x=\"40\" y=\"4.680000000000001\" style=\"font-family: 'Open Sans', verdana, arial, sans-serif; font-size: 12px; fill: rgb(42, 63, 95); fill-opacity: 1; white-space: pre;\">medications</text><g class=\"layers\" style=\"opacity: 1;\"><g class=\"legendfill\"/><g class=\"legendlines\"/><g class=\"legendsymbols\"><g class=\"legendpoints\"><path class=\"legendpie\" d=\"M6,6H-6V-6H6Z\" transform=\"translate(20,0)\" style=\"fill: rgb(227, 119, 194); fill-opacity: 1; stroke-width: 0; stroke: rgb(68, 68, 68); stroke-opacity: 1;\"/></g></g></g><rect class=\"legendtoggle\" x=\"0\" y=\"-9.5\" width=\"182.09375\" height=\"19\" style=\"fill: rgb(0, 0, 0); fill-opacity: 0;\"/></g><g class=\"traces\" transform=\"translate(0,147.5)\" style=\"opacity: 1;\"><text class=\"legendtext\" text-anchor=\"start\" x=\"40\" y=\"4.680000000000001\" style=\"font-family: 'Open Sans', verdana, arial, sans-serif; font-size: 12px; fill: rgb(42, 63, 95); fill-opacity: 1; white-space: pre;\">combination of substances</text><g class=\"layers\" style=\"opacity: 1;\"><g class=\"legendfill\"/><g class=\"legendlines\"/><g class=\"legendsymbols\"><g class=\"legendpoints\"><path class=\"legendpie\" d=\"M6,6H-6V-6H6Z\" transform=\"translate(20,0)\" style=\"fill: rgb(127, 127, 127); fill-opacity: 1; stroke-width: 0; stroke: rgb(68, 68, 68); stroke-opacity: 1;\"/></g></g></g><rect class=\"legendtoggle\" x=\"0\" y=\"-9.5\" width=\"182.09375\" height=\"19\" style=\"fill: rgb(0, 0, 0); fill-opacity: 0;\"/></g><g class=\"traces\" transform=\"translate(0,166.5)\" style=\"opacity: 1;\"><text class=\"legendtext\" text-anchor=\"start\" x=\"40\" y=\"4.680000000000001\" style=\"font-family: 'Open Sans', verdana, arial, sans-serif; font-size: 12px; fill: rgb(42, 63, 95); fill-opacity: 1; white-space: pre;\">suspect of drug</text><g class=\"layers\" style=\"opacity: 1;\"><g class=\"legendfill\"/><g class=\"legendlines\"/><g class=\"legendsymbols\"><g class=\"legendpoints\"><path class=\"legendpie\" d=\"M6,6H-6V-6H6Z\" transform=\"translate(20,0)\" style=\"fill: rgb(188, 189, 34); fill-opacity: 1; stroke-width: 0; stroke: rgb(68, 68, 68); stroke-opacity: 1;\"/></g></g></g><rect class=\"legendtoggle\" x=\"0\" y=\"-9.5\" width=\"182.09375\" height=\"19\" style=\"fill: rgb(0, 0, 0); fill-opacity: 0;\"/></g></g></g><rect class=\"scrollbar\" rx=\"20\" ry=\"3\" width=\"0\" height=\"0\" style=\"fill: rgb(128, 139, 164); fill-opacity: 1;\" x=\"0\" y=\"0\"/></g><g class=\"g-gtitle\"><text class=\"gtitle\" x=\"30\" y=\"50\" text-anchor=\"start\" dy=\"0em\" style=\"opacity: 1; font-family: 'Open Sans', verdana, arial, sans-serif; font-size: 17px; fill: rgb(42, 63, 95); fill-opacity: 1; white-space: pre;\">Distribution of driver substance abuse across all years</text></g></g></svg>"
      ]
     },
     "metadata": {},
     "output_type": "display_data"
    }
   ],
   "source": [
    "# Count the occurrences of each unique value in the 'driver_substance_abuse' column\n",
    "count_values = df['driver_substance_abuse'].value_counts()\n",
    "\n",
    "fig = px.pie(\n",
    "    names=count_values.index,\n",
    "    values=count_values.values,\n",
    "    color=count_values.index,\n",
    "    color_discrete_sequence=['#1f77b4', '#ff7f0e', '#2ca02c', '#d62728', '#9467bd', \n",
    "                             '#8c564b', '#e377c2', '#7f7f7f', '#bcbd22'],\n",
    "    title=\"Distribution of driver substance abuse across all years\",\n",
    "    labels={'value': 'Count', 'driver_substance_abuse': 'Substance Abuse Category'},\n",
    "    width=600,\n",
    "    height=400\n",
    ")\n",
    "\n",
    "fig.show(\"svg\")"
   ]
  },
  {
   "cell_type": "markdown",
   "id": "4bb042a0",
   "metadata": {},
   "source": [
    "We can see that alcohol was registered as cause of accident for only 3% of the cases across all years (2015-2024)."
   ]
  },
  {
   "cell_type": "markdown",
   "id": "d4162c8e",
   "metadata": {},
   "source": [
    "If we take a closer look at November 2022, we observe that substance abuse is not the main cause of accidents."
   ]
  },
  {
   "cell_type": "code",
   "execution_count": 21,
   "id": "dbce1931",
   "metadata": {},
   "outputs": [
    {
     "data": {
      "image/svg+xml": [
       "<svg class=\"main-svg\" xmlns=\"http://www.w3.org/2000/svg\" xmlns:xlink=\"http://www.w3.org/1999/xlink\" width=\"600\" height=\"400\" style=\"\" viewBox=\"0 0 600 400\"><rect x=\"0\" y=\"0\" width=\"600\" height=\"400\" style=\"fill: rgb(255, 255, 255); fill-opacity: 1;\"/><defs id=\"defs-6eff4a\"><g class=\"clips\"/><g class=\"gradients\"/><g class=\"patterns\"/></defs><g class=\"bglayer\"/><g class=\"layer-below\"><g class=\"imagelayer\"/><g class=\"shapelayer\"/></g><g class=\"cartesianlayer\"/><g class=\"polarlayer\"/><g class=\"smithlayer\"/><g class=\"ternarylayer\"/><g class=\"geolayer\"/><g class=\"funnelarealayer\"/><g class=\"pielayer\"><g class=\"trace\" stroke-linejoin=\"round\" style=\"opacity: 1;\"><g class=\"slice\"><path class=\"surface\" d=\"M243.5,210l0,-110a110,110 0 1 1 -107.66004456366969,132.56800400010283Z\" style=\"pointer-events: none; fill: rgb(31, 119, 180); fill-opacity: 1; stroke-width: 0; stroke: rgb(68, 68, 68); stroke-opacity: 1;\"/><g class=\"slicetext\"><text data-notex=\"1\" class=\"slicetext\" transform=\"translate(286.03031716526056,248.67261087657786)\" text-anchor=\"middle\" x=\"0\" y=\"0\" style=\"font-family: 'Open Sans', verdana, arial, sans-serif; font-size: 12px; fill: rgb(255, 255, 255); fill-opacity: 1; white-space: pre;\">71.7%</text></g></g><g class=\"slice\"><path class=\"surface\" d=\"M243.5,210l-109.8138974098395,-6.395931180152349a110,110 0 0 1 109.8138974098395,-103.60406881984765Z\" style=\"pointer-events: none; fill: rgb(255, 127, 14); fill-opacity: 1; stroke-width: 0; stroke: rgb(68, 68, 68); stroke-opacity: 1;\"/><g class=\"slicetext\"><text data-notex=\"1\" class=\"slicetext\" transform=\"translate(198.56976729620328,166.55063166737918)\" text-anchor=\"middle\" x=\"0\" y=\"0\" style=\"font-family: 'Open Sans', verdana, arial, sans-serif; font-size: 12px; fill: rgb(68, 68, 68); fill-opacity: 1; white-space: pre;\">24.1%</text></g></g><g class=\"slice\"><path class=\"surface\" d=\"M243.5,210l-108.40461989045761,18.6665043970584a110,110 0 0 1 -1.409277519381888,-25.06243557721075Z\" style=\"pointer-events: none; fill: rgb(44, 160, 44); fill-opacity: 1; stroke-width: 0; stroke: rgb(68, 68, 68); stroke-opacity: 1;\"/><g class=\"slicetext\"><text data-notex=\"1\" class=\"slicetext\" transform=\"translate(153.77228845825258,219.0517680336029)rotate(-3.218390804597675)\" text-anchor=\"middle\" x=\"0\" y=\"0\" style=\"font-family: 'Open Sans', verdana, arial, sans-serif; font-size: 12px; fill: rgb(255, 255, 255); fill-opacity: 1; white-space: pre;\">3.64%</text></g></g><g class=\"slice\"><path class=\"surface\" d=\"M243.5,210l-108.00835828502308,20.837335256075484a110,110 0 0 1 -0.3962616054345318,-2.1708308590170837Z\" style=\"pointer-events: none; fill: rgb(214, 39, 40); fill-opacity: 1; stroke-width: 0; stroke: rgb(68, 68, 68); stroke-opacity: 1;\"/><g class=\"slicetext\"><text data-notex=\"1\" class=\"slicetext\" transform=\"translate(111.10056716747971,233.97863609733628)\" text-anchor=\"middle\" x=\"0\" y=\"0\" style=\"font-family: 'Open Sans', verdana, arial, sans-serif; font-size: 12px; fill: rgb(42, 63, 95); fill-opacity: 1; white-space: pre;\">0.319%</text></g></g><g class=\"slice\"><path class=\"surface\" d=\"M243.5,210l-107.83767338180982,21.703368392903993a110,110 0 0 1 -0.1706849032132567,-0.8660331368285092Z\" style=\"pointer-events: none; fill: rgb(148, 103, 189); fill-opacity: 1; stroke-width: 0; stroke: rgb(68, 68, 68); stroke-opacity: 1;\"/><g class=\"slicetext\"><text data-notex=\"1\" class=\"slicetext\" transform=\"translate(111.38861547980503,247.97863609733628)\" text-anchor=\"middle\" x=\"0\" y=\"0\" style=\"font-family: 'Open Sans', verdana, arial, sans-serif; font-size: 12px; fill: rgb(42, 63, 95); fill-opacity: 1; white-space: pre;\">0.128%</text></g><path class=\"textline\" stroke-width=\"1.5\" d=\"M135.57611547980503,231.27052303239438V243.97863609733628h-3.5\" fill=\"none\" style=\"stroke: rgb(42, 63, 95); stroke-opacity: 1;\"/></g><g class=\"slice\"><path class=\"surface\" d=\"M243.5,210l-107.74972625770643,22.135864369600068a110,110 0 0 1 -0.087947124103394,-0.43249597669607454Z\" style=\"pointer-events: none; fill: rgb(140, 86, 75); fill-opacity: 1; stroke-width: 0; stroke: rgb(68, 68, 68); stroke-opacity: 1;\"/><g class=\"slicetext\"><text data-notex=\"1\" class=\"slicetext\" transform=\"translate(108.17483326985894,261.9786360973363)\" text-anchor=\"middle\" x=\"0\" y=\"0\" style=\"font-family: 'Open Sans', verdana, arial, sans-serif; font-size: 12px; fill: rgb(42, 63, 95); fill-opacity: 1; white-space: pre;\">0.0639%</text></g><path class=\"textline\" stroke-width=\"1.5\" d=\"M135.70608326985894,231.9196604895106V257.9786360973363h-3.5\" fill=\"none\" style=\"stroke: rgb(42, 63, 95); stroke-opacity: 1;\"/></g><g class=\"slice\"><path class=\"surface\" d=\"M243.5,210l-107.66004456366969,22.568004000102817a110,110 0 0 1 -0.08968169403674153,-0.43213963050274984Z\" style=\"pointer-events: none; fill: rgb(227, 119, 194); fill-opacity: 1; stroke-width: 0; stroke: rgb(68, 68, 68); stroke-opacity: 1;\"/><g class=\"slicetext\"><text data-notex=\"1\" class=\"slicetext\" transform=\"translate(108.26364785764787,275.9786360973363)\" text-anchor=\"middle\" x=\"0\" y=\"0\" style=\"font-family: 'Open Sans', verdana, arial, sans-serif; font-size: 12px; fill: rgb(42, 63, 95); fill-opacity: 1; white-space: pre;\">0.0639%</text></g><path class=\"textline\" stroke-width=\"1.5\" d=\"M135.79489785764787,232.35197916305157V271.9786360973363h-3.5\" fill=\"none\" style=\"stroke: rgb(42, 63, 95); stroke-opacity: 1;\"/></g></g></g><g class=\"iciclelayer\"/><g class=\"treemaplayer\"/><g class=\"sunburstlayer\"/><g class=\"glimages\"/><defs id=\"topdefs-6eff4a\"><g class=\"clips\"/><clipPath id=\"legend6eff4a\"><rect width=\"188\" height=\"143\" x=\"0\" y=\"0\"/></clipPath></defs><g class=\"layer-above\"><g class=\"imagelayer\"/><g class=\"shapelayer\"/></g><g class=\"infolayer\"><g class=\"legend\" pointer-events=\"all\" transform=\"translate(400.02,100)\"><rect class=\"bg\" shape-rendering=\"crispEdges\" width=\"188\" height=\"143\" x=\"0\" y=\"0\" style=\"stroke: rgb(68, 68, 68); stroke-opacity: 1; fill: rgb(255, 255, 255); fill-opacity: 1; stroke-width: 0px;\"/><g class=\"scrollbox\" transform=\"\" clip-path=\"url(#legend6eff4a)\"><g class=\"groups\"><g class=\"traces\" transform=\"translate(0,14.5)\" style=\"opacity: 1;\"><text class=\"legendtext\" text-anchor=\"start\" x=\"40\" y=\"4.680000000000001\" style=\"font-family: 'Open Sans', verdana, arial, sans-serif; font-size: 12px; fill: rgb(42, 63, 95); fill-opacity: 1; white-space: pre;\">none</text><g class=\"layers\" style=\"opacity: 1;\"><g class=\"legendfill\"/><g class=\"legendlines\"/><g class=\"legendsymbols\"><g class=\"legendpoints\"><path class=\"legendpie\" d=\"M6,6H-6V-6H6Z\" transform=\"translate(20,0)\" style=\"fill: rgb(31, 119, 180); fill-opacity: 1; stroke-width: 0; stroke: rgb(68, 68, 68); stroke-opacity: 1;\"/></g></g></g><rect class=\"legendtoggle\" x=\"0\" y=\"-9.5\" width=\"182.09375\" height=\"19\" style=\"fill: rgb(0, 0, 0); fill-opacity: 0;\"/></g><g class=\"traces\" transform=\"translate(0,33.5)\" style=\"opacity: 1;\"><text class=\"legendtext\" text-anchor=\"start\" x=\"40\" y=\"4.680000000000001\" style=\"font-family: 'Open Sans', verdana, arial, sans-serif; font-size: 12px; fill: rgb(42, 63, 95); fill-opacity: 1; white-space: pre;\">unknown</text><g class=\"layers\" style=\"opacity: 1;\"><g class=\"legendfill\"/><g class=\"legendlines\"/><g class=\"legendsymbols\"><g class=\"legendpoints\"><path class=\"legendpie\" d=\"M6,6H-6V-6H6Z\" transform=\"translate(20,0)\" style=\"fill: rgb(255, 127, 14); fill-opacity: 1; stroke-width: 0; stroke: rgb(68, 68, 68); stroke-opacity: 1;\"/></g></g></g><rect class=\"legendtoggle\" x=\"0\" y=\"-9.5\" width=\"182.09375\" height=\"19\" style=\"fill: rgb(0, 0, 0); fill-opacity: 0;\"/></g><g class=\"traces\" transform=\"translate(0,52.5)\" style=\"opacity: 1;\"><text class=\"legendtext\" text-anchor=\"start\" x=\"40\" y=\"4.680000000000001\" style=\"font-family: 'Open Sans', verdana, arial, sans-serif; font-size: 12px; fill: rgb(42, 63, 95); fill-opacity: 1; white-space: pre;\">alcohol</text><g class=\"layers\" style=\"opacity: 1;\"><g class=\"legendfill\"/><g class=\"legendlines\"/><g class=\"legendsymbols\"><g class=\"legendpoints\"><path class=\"legendpie\" d=\"M6,6H-6V-6H6Z\" transform=\"translate(20,0)\" style=\"fill: rgb(44, 160, 44); fill-opacity: 1; stroke-width: 0; stroke: rgb(68, 68, 68); stroke-opacity: 1;\"/></g></g></g><rect class=\"legendtoggle\" x=\"0\" y=\"-9.5\" width=\"182.09375\" height=\"19\" style=\"fill: rgb(0, 0, 0); fill-opacity: 0;\"/></g><g class=\"traces\" transform=\"translate(0,71.5)\" style=\"opacity: 1;\"><text class=\"legendtext\" text-anchor=\"start\" x=\"40\" y=\"4.680000000000001\" style=\"font-family: 'Open Sans', verdana, arial, sans-serif; font-size: 12px; fill: rgb(42, 63, 95); fill-opacity: 1; white-space: pre;\">illegal drugs</text><g class=\"layers\" style=\"opacity: 1;\"><g class=\"legendfill\"/><g class=\"legendlines\"/><g class=\"legendsymbols\"><g class=\"legendpoints\"><path class=\"legendpie\" d=\"M6,6H-6V-6H6Z\" transform=\"translate(20,0)\" style=\"fill: rgb(214, 39, 40); fill-opacity: 1; stroke-width: 0; stroke: rgb(68, 68, 68); stroke-opacity: 1;\"/></g></g></g><rect class=\"legendtoggle\" x=\"0\" y=\"-9.5\" width=\"182.09375\" height=\"19\" style=\"fill: rgb(0, 0, 0); fill-opacity: 0;\"/></g><g class=\"traces\" transform=\"translate(0,90.5)\" style=\"opacity: 1;\"><text class=\"legendtext\" text-anchor=\"start\" x=\"40\" y=\"4.680000000000001\" style=\"font-family: 'Open Sans', verdana, arial, sans-serif; font-size: 12px; fill: rgb(42, 63, 95); fill-opacity: 1; white-space: pre;\">other</text><g class=\"layers\" style=\"opacity: 1;\"><g class=\"legendfill\"/><g class=\"legendlines\"/><g class=\"legendsymbols\"><g class=\"legendpoints\"><path class=\"legendpie\" d=\"M6,6H-6V-6H6Z\" transform=\"translate(20,0)\" style=\"fill: rgb(148, 103, 189); fill-opacity: 1; stroke-width: 0; stroke: rgb(68, 68, 68); stroke-opacity: 1;\"/></g></g></g><rect class=\"legendtoggle\" x=\"0\" y=\"-9.5\" width=\"182.09375\" height=\"19\" style=\"fill: rgb(0, 0, 0); fill-opacity: 0;\"/></g><g class=\"traces\" transform=\"translate(0,109.5)\" style=\"opacity: 1;\"><text class=\"legendtext\" text-anchor=\"start\" x=\"40\" y=\"4.680000000000001\" style=\"font-family: 'Open Sans', verdana, arial, sans-serif; font-size: 12px; fill: rgb(42, 63, 95); fill-opacity: 1; white-space: pre;\">medications</text><g class=\"layers\" style=\"opacity: 1;\"><g class=\"legendfill\"/><g class=\"legendlines\"/><g class=\"legendsymbols\"><g class=\"legendpoints\"><path class=\"legendpie\" d=\"M6,6H-6V-6H6Z\" transform=\"translate(20,0)\" style=\"fill: rgb(140, 86, 75); fill-opacity: 1; stroke-width: 0; stroke: rgb(68, 68, 68); stroke-opacity: 1;\"/></g></g></g><rect class=\"legendtoggle\" x=\"0\" y=\"-9.5\" width=\"182.09375\" height=\"19\" style=\"fill: rgb(0, 0, 0); fill-opacity: 0;\"/></g><g class=\"traces\" transform=\"translate(0,128.5)\" style=\"opacity: 1;\"><text class=\"legendtext\" text-anchor=\"start\" x=\"40\" y=\"4.680000000000001\" style=\"font-family: 'Open Sans', verdana, arial, sans-serif; font-size: 12px; fill: rgb(42, 63, 95); fill-opacity: 1; white-space: pre;\">combination of substances</text><g class=\"layers\" style=\"opacity: 1;\"><g class=\"legendfill\"/><g class=\"legendlines\"/><g class=\"legendsymbols\"><g class=\"legendpoints\"><path class=\"legendpie\" d=\"M6,6H-6V-6H6Z\" transform=\"translate(20,0)\" style=\"fill: rgb(227, 119, 194); fill-opacity: 1; stroke-width: 0; stroke: rgb(68, 68, 68); stroke-opacity: 1;\"/></g></g></g><rect class=\"legendtoggle\" x=\"0\" y=\"-9.5\" width=\"182.09375\" height=\"19\" style=\"fill: rgb(0, 0, 0); fill-opacity: 0;\"/></g></g></g><rect class=\"scrollbar\" rx=\"20\" ry=\"3\" width=\"0\" height=\"0\" x=\"0\" y=\"0\" style=\"fill: rgb(128, 139, 164); fill-opacity: 1;\"/></g><g class=\"g-gtitle\"><text class=\"gtitle\" x=\"30\" y=\"50\" text-anchor=\"start\" dy=\"0em\" style=\"opacity: 1; font-family: 'Open Sans', verdana, arial, sans-serif; font-size: 17px; fill: rgb(42, 63, 95); fill-opacity: 1; white-space: pre;\">Distribution of driver substance abuse - Nov.2021</text></g></g></svg>"
      ]
     },
     "metadata": {},
     "output_type": "display_data"
    },
    {
     "data": {
      "image/svg+xml": [
       "<svg class=\"main-svg\" xmlns=\"http://www.w3.org/2000/svg\" xmlns:xlink=\"http://www.w3.org/1999/xlink\" width=\"600\" height=\"400\" style=\"\" viewBox=\"0 0 600 400\"><rect x=\"0\" y=\"0\" width=\"600\" height=\"400\" style=\"fill: rgb(255, 255, 255); fill-opacity: 1;\"/><defs id=\"defs-0b1a8b\"><g class=\"clips\"/><g class=\"gradients\"/><g class=\"patterns\"/></defs><g class=\"bglayer\"/><g class=\"layer-below\"><g class=\"imagelayer\"/><g class=\"shapelayer\"/></g><g class=\"cartesianlayer\"/><g class=\"polarlayer\"/><g class=\"smithlayer\"/><g class=\"ternarylayer\"/><g class=\"geolayer\"/><g class=\"funnelarealayer\"/><g class=\"pielayer\"><g class=\"trace\" stroke-linejoin=\"round\" style=\"opacity: 1;\"><g class=\"slice\"><path class=\"surface\" d=\"M243.5,210l0,-110a110,110 0 1 1 -107.64955907581017,132.61796699050677Z\" style=\"pointer-events: none; fill: rgb(31, 119, 180); fill-opacity: 1; stroke-width: 0; stroke: rgb(68, 68, 68); stroke-opacity: 1;\"/><g class=\"slicetext\"><text data-notex=\"1\" class=\"slicetext\" transform=\"translate(286.03836185880505,248.66270263381855)\" text-anchor=\"middle\" x=\"0\" y=\"0\" style=\"font-family: 'Open Sans', verdana, arial, sans-serif; font-size: 12px; fill: rgb(255, 255, 255); fill-opacity: 1; white-space: pre;\">71.7%</text></g></g><g class=\"slice\"><path class=\"surface\" d=\"M243.5,210l-109.99244233089101,1.2894301398733a110,110 0 0 1 109.99244233089101,-111.2894301398733Z\" style=\"pointer-events: none; fill: rgb(255, 127, 14); fill-opacity: 1; stroke-width: 0; stroke: rgb(68, 68, 68); stroke-opacity: 1;\"/><g class=\"slicetext\"><text data-notex=\"1\" class=\"slicetext\" transform=\"translate(197.6168439552507,168.81372531226822)\" text-anchor=\"middle\" x=\"0\" y=\"0\" style=\"font-family: 'Open Sans', verdana, arial, sans-serif; font-size: 12px; fill: rgb(68, 68, 68); fill-opacity: 1; white-space: pre;\">25.2%</text></g></g><g class=\"slice\"><path class=\"surface\" d=\"M243.5,210l-108.15019872998546,20.088168524398895a110,110 0 0 1 -1.8422436009055474,-18.798738384525596Z\" style=\"pointer-events: none; fill: rgb(44, 160, 44); fill-opacity: 1; stroke-width: 0; stroke: rgb(68, 68, 68); stroke-opacity: 1;\"/><g class=\"slicetext\"><text data-notex=\"1\" class=\"slicetext\" transform=\"translate(113.18067690962494,224.79500151700503)\" text-anchor=\"middle\" x=\"0\" y=\"0\" style=\"font-family: 'Open Sans', verdana, arial, sans-serif; font-size: 12px; fill: rgb(42, 63, 95); fill-opacity: 1; white-space: pre;\">2.74%</text></g></g><g class=\"slice\"><path class=\"surface\" d=\"M243.5,210l-107.82302737561623,21.776013582772887a110,110 0 0 1 -0.3271713543692272,-1.6878450583739912Z\" style=\"pointer-events: none; fill: rgb(214, 39, 40); fill-opacity: 1; stroke-width: 0; stroke: rgb(68, 68, 68); stroke-opacity: 1;\"/><g class=\"slicetext\"><text data-notex=\"1\" class=\"slicetext\" transform=\"translate(111.32258934233437,238.79500151700503)\" text-anchor=\"middle\" x=\"0\" y=\"0\" style=\"font-family: 'Open Sans', verdana, arial, sans-serif; font-size: 12px; fill: rgb(42, 63, 95); fill-opacity: 1; white-space: pre;\">0.249%</text></g><path class=\"textline\" stroke-width=\"1.5\" d=\"M135.51008934233437,230.93273026027398V234.79500151700503h-3.5\" fill=\"none\" style=\"stroke: rgb(42, 63, 95); stroke-opacity: 1;\"/></g><g class=\"slice\"><path class=\"surface\" d=\"M243.5,210l-107.73711570021752,22.197159741686402a110,110 0 0 1 -0.08591167539871947,-0.4211461589135155Z\" style=\"pointer-events: none; fill: rgb(148, 103, 189); fill-opacity: 1; stroke-width: 0; stroke: rgb(68, 68, 68); stroke-opacity: 1;\"/><g class=\"slicetext\"><text data-notex=\"1\" class=\"slicetext\" transform=\"translate(108.18847276088601,252.79500151700503)\" text-anchor=\"middle\" x=\"0\" y=\"0\" style=\"font-family: 'Open Sans', verdana, arial, sans-serif; font-size: 12px; fill: rgb(42, 63, 95); fill-opacity: 1; white-space: pre;\">0.0622%</text></g><path class=\"textline\" stroke-width=\"1.5\" d=\"M135.71972276088601,231.9866286242281V248.79500151700503h-3.5\" fill=\"none\" style=\"stroke: rgb(42, 63, 95); stroke-opacity: 1;\"/></g><g class=\"slice\"><path class=\"surface\" d=\"M243.5,210l-107.64955907581016,22.617966990506826a110,110 0 0 1 -0.08755662440735534,-0.42080724882042375Z\" style=\"pointer-events: none; fill: rgb(140, 86, 75); fill-opacity: 1; stroke-width: 0; stroke: rgb(68, 68, 68); stroke-opacity: 1;\"/><g class=\"slicetext\"><text data-notex=\"1\" class=\"slicetext\" transform=\"translate(108.27520707632351,266.79500151700506)\" text-anchor=\"middle\" x=\"0\" y=\"0\" style=\"font-family: 'Open Sans', verdana, arial, sans-serif; font-size: 12px; fill: rgb(42, 63, 95); fill-opacity: 1; white-space: pre;\">0.0622%</text></g><path class=\"textline\" stroke-width=\"1.5\" d=\"M135.8064570763235,232.40760613154058V262.79500151700506h-3.5\" fill=\"none\" style=\"stroke: rgb(42, 63, 95); stroke-opacity: 1;\"/></g></g></g><g class=\"iciclelayer\"/><g class=\"treemaplayer\"/><g class=\"sunburstlayer\"/><g class=\"glimages\"/><defs id=\"topdefs-0b1a8b\"><g class=\"clips\"/><clipPath id=\"legend0b1a8b\"><rect width=\"188\" height=\"124\" x=\"0\" y=\"0\"/></clipPath></defs><g class=\"layer-above\"><g class=\"imagelayer\"/><g class=\"shapelayer\"/></g><g class=\"infolayer\"><g class=\"legend\" pointer-events=\"all\" transform=\"translate(400.02,100)\"><rect class=\"bg\" shape-rendering=\"crispEdges\" width=\"188\" height=\"124\" x=\"0\" y=\"0\" style=\"stroke: rgb(68, 68, 68); stroke-opacity: 1; fill: rgb(255, 255, 255); fill-opacity: 1; stroke-width: 0px;\"/><g class=\"scrollbox\" transform=\"\" clip-path=\"url(#legend0b1a8b)\"><g class=\"groups\"><g class=\"traces\" transform=\"translate(0,14.5)\" style=\"opacity: 1;\"><text class=\"legendtext\" text-anchor=\"start\" x=\"40\" y=\"4.680000000000001\" style=\"font-family: 'Open Sans', verdana, arial, sans-serif; font-size: 12px; fill: rgb(42, 63, 95); fill-opacity: 1; white-space: pre;\">none</text><g class=\"layers\" style=\"opacity: 1;\"><g class=\"legendfill\"/><g class=\"legendlines\"/><g class=\"legendsymbols\"><g class=\"legendpoints\"><path class=\"legendpie\" d=\"M6,6H-6V-6H6Z\" transform=\"translate(20,0)\" style=\"fill: rgb(31, 119, 180); fill-opacity: 1; stroke-width: 0; stroke: rgb(68, 68, 68); stroke-opacity: 1;\"/></g></g></g><rect class=\"legendtoggle\" x=\"0\" y=\"-9.5\" width=\"182.09375\" height=\"19\" style=\"fill: rgb(0, 0, 0); fill-opacity: 0;\"/></g><g class=\"traces\" transform=\"translate(0,33.5)\" style=\"opacity: 1;\"><text class=\"legendtext\" text-anchor=\"start\" x=\"40\" y=\"4.680000000000001\" style=\"font-family: 'Open Sans', verdana, arial, sans-serif; font-size: 12px; fill: rgb(42, 63, 95); fill-opacity: 1; white-space: pre;\">unknown</text><g class=\"layers\" style=\"opacity: 1;\"><g class=\"legendfill\"/><g class=\"legendlines\"/><g class=\"legendsymbols\"><g class=\"legendpoints\"><path class=\"legendpie\" d=\"M6,6H-6V-6H6Z\" transform=\"translate(20,0)\" style=\"fill: rgb(255, 127, 14); fill-opacity: 1; stroke-width: 0; stroke: rgb(68, 68, 68); stroke-opacity: 1;\"/></g></g></g><rect class=\"legendtoggle\" x=\"0\" y=\"-9.5\" width=\"182.09375\" height=\"19\" style=\"fill: rgb(0, 0, 0); fill-opacity: 0;\"/></g><g class=\"traces\" transform=\"translate(0,52.5)\" style=\"opacity: 1;\"><text class=\"legendtext\" text-anchor=\"start\" x=\"40\" y=\"4.680000000000001\" style=\"font-family: 'Open Sans', verdana, arial, sans-serif; font-size: 12px; fill: rgb(42, 63, 95); fill-opacity: 1; white-space: pre;\">alcohol</text><g class=\"layers\" style=\"opacity: 1;\"><g class=\"legendfill\"/><g class=\"legendlines\"/><g class=\"legendsymbols\"><g class=\"legendpoints\"><path class=\"legendpie\" d=\"M6,6H-6V-6H6Z\" transform=\"translate(20,0)\" style=\"fill: rgb(44, 160, 44); fill-opacity: 1; stroke-width: 0; stroke: rgb(68, 68, 68); stroke-opacity: 1;\"/></g></g></g><rect class=\"legendtoggle\" x=\"0\" y=\"-9.5\" width=\"182.09375\" height=\"19\" style=\"fill: rgb(0, 0, 0); fill-opacity: 0;\"/></g><g class=\"traces\" transform=\"translate(0,71.5)\" style=\"opacity: 1;\"><text class=\"legendtext\" text-anchor=\"start\" x=\"40\" y=\"4.680000000000001\" style=\"font-family: 'Open Sans', verdana, arial, sans-serif; font-size: 12px; fill: rgb(42, 63, 95); fill-opacity: 1; white-space: pre;\">illegal drugs</text><g class=\"layers\" style=\"opacity: 1;\"><g class=\"legendfill\"/><g class=\"legendlines\"/><g class=\"legendsymbols\"><g class=\"legendpoints\"><path class=\"legendpie\" d=\"M6,6H-6V-6H6Z\" transform=\"translate(20,0)\" style=\"fill: rgb(214, 39, 40); fill-opacity: 1; stroke-width: 0; stroke: rgb(68, 68, 68); stroke-opacity: 1;\"/></g></g></g><rect class=\"legendtoggle\" x=\"0\" y=\"-9.5\" width=\"182.09375\" height=\"19\" style=\"fill: rgb(0, 0, 0); fill-opacity: 0;\"/></g><g class=\"traces\" transform=\"translate(0,90.5)\" style=\"opacity: 1;\"><text class=\"legendtext\" text-anchor=\"start\" x=\"40\" y=\"4.680000000000001\" style=\"font-family: 'Open Sans', verdana, arial, sans-serif; font-size: 12px; fill: rgb(42, 63, 95); fill-opacity: 1; white-space: pre;\">combination of substances</text><g class=\"layers\" style=\"opacity: 1;\"><g class=\"legendfill\"/><g class=\"legendlines\"/><g class=\"legendsymbols\"><g class=\"legendpoints\"><path class=\"legendpie\" d=\"M6,6H-6V-6H6Z\" transform=\"translate(20,0)\" style=\"fill: rgb(148, 103, 189); fill-opacity: 1; stroke-width: 0; stroke: rgb(68, 68, 68); stroke-opacity: 1;\"/></g></g></g><rect class=\"legendtoggle\" x=\"0\" y=\"-9.5\" width=\"182.09375\" height=\"19\" style=\"fill: rgb(0, 0, 0); fill-opacity: 0;\"/></g><g class=\"traces\" transform=\"translate(0,109.5)\" style=\"opacity: 1;\"><text class=\"legendtext\" text-anchor=\"start\" x=\"40\" y=\"4.680000000000001\" style=\"font-family: 'Open Sans', verdana, arial, sans-serif; font-size: 12px; fill: rgb(42, 63, 95); fill-opacity: 1; white-space: pre;\">medications</text><g class=\"layers\" style=\"opacity: 1;\"><g class=\"legendfill\"/><g class=\"legendlines\"/><g class=\"legendsymbols\"><g class=\"legendpoints\"><path class=\"legendpie\" d=\"M6,6H-6V-6H6Z\" transform=\"translate(20,0)\" style=\"fill: rgb(140, 86, 75); fill-opacity: 1; stroke-width: 0; stroke: rgb(68, 68, 68); stroke-opacity: 1;\"/></g></g></g><rect class=\"legendtoggle\" x=\"0\" y=\"-9.5\" width=\"182.09375\" height=\"19\" style=\"fill: rgb(0, 0, 0); fill-opacity: 0;\"/></g></g></g><rect class=\"scrollbar\" rx=\"20\" ry=\"3\" width=\"0\" height=\"0\" x=\"0\" y=\"0\" style=\"fill: rgb(128, 139, 164); fill-opacity: 1;\"/></g><g class=\"g-gtitle\"><text class=\"gtitle\" x=\"30\" y=\"50\" text-anchor=\"start\" dy=\"0em\" style=\"opacity: 1; font-family: 'Open Sans', verdana, arial, sans-serif; font-size: 17px; fill: rgb(42, 63, 95); fill-opacity: 1; white-space: pre;\">Distribution of driver substance abuse - Nov.2022</text></g></g></svg>"
      ]
     },
     "metadata": {},
     "output_type": "display_data"
    },
    {
     "data": {
      "image/svg+xml": [
       "<svg class=\"main-svg\" xmlns=\"http://www.w3.org/2000/svg\" xmlns:xlink=\"http://www.w3.org/1999/xlink\" width=\"600\" height=\"400\" style=\"\" viewBox=\"0 0 600 400\"><rect x=\"0\" y=\"0\" width=\"600\" height=\"400\" style=\"fill: rgb(255, 255, 255); fill-opacity: 1;\"/><defs id=\"defs-c6ba8d\"><g class=\"clips\"/><g class=\"gradients\"/><g class=\"patterns\"/></defs><g class=\"bglayer\"/><g class=\"layer-below\"><g class=\"imagelayer\"/><g class=\"shapelayer\"/></g><g class=\"cartesianlayer\"/><g class=\"polarlayer\"/><g class=\"smithlayer\"/><g class=\"ternarylayer\"/><g class=\"geolayer\"/><g class=\"funnelarealayer\"/><g class=\"pielayer\"><g class=\"trace\" stroke-linejoin=\"round\" style=\"opacity: 1;\"><g class=\"slice\"><path class=\"surface\" d=\"M244.5,210l0,-110a110,110 0 1 1 -107.99245866841319,130.91958103670027Z\" style=\"pointer-events: none; fill: rgb(31, 119, 180); fill-opacity: 1; stroke-width: 0; stroke: rgb(68, 68, 68); stroke-opacity: 1;\"/><g class=\"slicetext\"><text data-notex=\"1\" class=\"slicetext\" transform=\"translate(286.7640442130579,248.99793937856015)\" text-anchor=\"middle\" x=\"0\" y=\"0\" style=\"font-family: 'Open Sans', verdana, arial, sans-serif; font-size: 12px; fill: rgb(255, 255, 255); fill-opacity: 1; white-space: pre;\">72%</text></g></g><g class=\"slice\"><path class=\"surface\" d=\"M244.5,210l-109.97695622998022,2.25146583119012a110,110 0 0 1 109.97695622998022,-112.25146583119012Z\" style=\"pointer-events: none; fill: rgb(255, 127, 14); fill-opacity: 1; stroke-width: 0; stroke: rgb(68, 68, 68); stroke-opacity: 1;\"/><g class=\"slicetext\"><text data-notex=\"1\" class=\"slicetext\" transform=\"translate(198.50182197233215,169.0946040668488)\" text-anchor=\"middle\" x=\"0\" y=\"0\" style=\"font-family: 'Open Sans', verdana, arial, sans-serif; font-size: 12px; fill: rgb(68, 68, 68); fill-opacity: 1; white-space: pre;\">25.3%</text></g></g><g class=\"slice\"><path class=\"surface\" d=\"M244.5,210l-108.2793849646502,19.37975210566644a110,110 0 0 1 -1.6975712653300121,-17.12828627447632Z\" style=\"pointer-events: none; fill: rgb(44, 160, 44); fill-opacity: 1; stroke-width: 0; stroke: rgb(68, 68, 68); stroke-opacity: 1;\"/><g class=\"slicetext\"><text data-notex=\"1\" class=\"slicetext\" transform=\"translate(114.19254749733551,224.91695293350543)\" text-anchor=\"middle\" x=\"0\" y=\"0\" style=\"font-family: 'Open Sans', verdana, arial, sans-serif; font-size: 12px; fill: rgb(42, 63, 95); fill-opacity: 1; white-space: pre;\">2.49%</text></g></g><g class=\"slice\"><path class=\"surface\" d=\"M244.5,210l-108.13866262995519,20.150177284697318a110,110 0 0 1 -0.14072233469501327,-0.7704251790308767Z\" style=\"pointer-events: none; fill: rgb(214, 39, 40); fill-opacity: 1; stroke-width: 0; stroke: rgb(68, 68, 68); stroke-opacity: 1;\"/><g class=\"slicetext\"><text data-notex=\"1\" class=\"slicetext\" transform=\"translate(112.10279054699231,238.91695293350543)\" text-anchor=\"middle\" x=\"0\" y=\"0\" style=\"font-family: 'Open Sans', verdana, arial, sans-serif; font-size: 12px; fill: rgb(42, 63, 95); fill-opacity: 1; white-space: pre;\">0.113%</text></g><path class=\"textline\" stroke-width=\"1.5\" d=\"M136.2902905469923,229.7650899339127V234.91695293350543h-3.5\" fill=\"none\" style=\"stroke: rgb(42, 63, 95); stroke-opacity: 1;\"/></g><g class=\"slice\"><path class=\"surface\" d=\"M244.5,210l-108.06624539584924,20.53500927791597a110,110 0 0 1 -0.07241723410595569,-0.38483199321865413Z\" style=\"pointer-events: none; fill: rgb(148, 103, 189); fill-opacity: 1; stroke-width: 0; stroke: rgb(68, 68, 68); stroke-opacity: 1;\"/><g class=\"slicetext\"><text data-notex=\"1\" class=\"slicetext\" transform=\"translate(108.86612474266693,252.91695293350543)\" text-anchor=\"middle\" x=\"0\" y=\"0\" style=\"font-family: 'Open Sans', verdana, arial, sans-serif; font-size: 12px; fill: rgb(42, 63, 95); fill-opacity: 1; white-space: pre;\">0.0567%</text></g><path class=\"textline\" stroke-width=\"1.5\" d=\"M136.39737474266693,230.34262550588323V248.91695293350543h-3.5\" fill=\"none\" style=\"stroke: rgb(42, 63, 95); stroke-opacity: 1;\"/></g><g class=\"slice\"><path class=\"surface\" d=\"M244.5,210l-107.99245866841318,20.919581036700304a110,110 0 0 1 -0.07378672743605819,-0.3845717587843325Z\" style=\"pointer-events: none; fill: rgb(140, 86, 75); fill-opacity: 1; stroke-width: 0; stroke: rgb(68, 68, 68); stroke-opacity: 1;\"/><g class=\"slicetext\"><text data-notex=\"1\" class=\"slicetext\" transform=\"translate(108.9392268392383,266.9169529335054)\" text-anchor=\"middle\" x=\"0\" y=\"0\" style=\"font-family: 'Open Sans', verdana, arial, sans-serif; font-size: 12px; fill: rgb(42, 63, 95); fill-opacity: 1; white-space: pre;\">0.0567%</text></g><path class=\"textline\" stroke-width=\"1.5\" d=\"M136.4704768392383,230.7273279912886V262.9169529335054h-3.5\" fill=\"none\" style=\"stroke: rgb(42, 63, 95); stroke-opacity: 1;\"/></g></g></g><g class=\"iciclelayer\"/><g class=\"treemaplayer\"/><g class=\"sunburstlayer\"/><g class=\"glimages\"/><defs id=\"topdefs-c6ba8d\"><g class=\"clips\"/><clipPath id=\"legendc6ba8d\"><rect width=\"188\" height=\"124\" x=\"0\" y=\"0\"/></clipPath></defs><g class=\"layer-above\"><g class=\"imagelayer\"/><g class=\"shapelayer\"/></g><g class=\"infolayer\"><g class=\"legend\" pointer-events=\"all\" transform=\"translate(399.98,100)\"><rect class=\"bg\" shape-rendering=\"crispEdges\" width=\"188\" height=\"124\" x=\"0\" y=\"0\" style=\"stroke: rgb(68, 68, 68); stroke-opacity: 1; fill: rgb(255, 255, 255); fill-opacity: 1; stroke-width: 0px;\"/><g class=\"scrollbox\" transform=\"\" clip-path=\"url(#legendc6ba8d)\"><g class=\"groups\"><g class=\"traces\" transform=\"translate(0,14.5)\" style=\"opacity: 1;\"><text class=\"legendtext\" text-anchor=\"start\" x=\"40\" y=\"4.680000000000001\" style=\"font-family: 'Open Sans', verdana, arial, sans-serif; font-size: 12px; fill: rgb(42, 63, 95); fill-opacity: 1; white-space: pre;\">none</text><g class=\"layers\" style=\"opacity: 1;\"><g class=\"legendfill\"/><g class=\"legendlines\"/><g class=\"legendsymbols\"><g class=\"legendpoints\"><path class=\"legendpie\" d=\"M6,6H-6V-6H6Z\" transform=\"translate(20,0)\" style=\"fill: rgb(31, 119, 180); fill-opacity: 1; stroke-width: 0; stroke: rgb(68, 68, 68); stroke-opacity: 1;\"/></g></g></g><rect class=\"legendtoggle\" x=\"0\" y=\"-9.5\" width=\"182.09375\" height=\"19\" style=\"fill: rgb(0, 0, 0); fill-opacity: 0;\"/></g><g class=\"traces\" transform=\"translate(0,33.5)\" style=\"opacity: 1;\"><text class=\"legendtext\" text-anchor=\"start\" x=\"40\" y=\"4.680000000000001\" style=\"font-family: 'Open Sans', verdana, arial, sans-serif; font-size: 12px; fill: rgb(42, 63, 95); fill-opacity: 1; white-space: pre;\">unknown</text><g class=\"layers\" style=\"opacity: 1;\"><g class=\"legendfill\"/><g class=\"legendlines\"/><g class=\"legendsymbols\"><g class=\"legendpoints\"><path class=\"legendpie\" d=\"M6,6H-6V-6H6Z\" transform=\"translate(20,0)\" style=\"fill: rgb(255, 127, 14); fill-opacity: 1; stroke-width: 0; stroke: rgb(68, 68, 68); stroke-opacity: 1;\"/></g></g></g><rect class=\"legendtoggle\" x=\"0\" y=\"-9.5\" width=\"182.09375\" height=\"19\" style=\"fill: rgb(0, 0, 0); fill-opacity: 0;\"/></g><g class=\"traces\" transform=\"translate(0,52.5)\" style=\"opacity: 1;\"><text class=\"legendtext\" text-anchor=\"start\" x=\"40\" y=\"4.680000000000001\" style=\"font-family: 'Open Sans', verdana, arial, sans-serif; font-size: 12px; fill: rgb(42, 63, 95); fill-opacity: 1; white-space: pre;\">alcohol</text><g class=\"layers\" style=\"opacity: 1;\"><g class=\"legendfill\"/><g class=\"legendlines\"/><g class=\"legendsymbols\"><g class=\"legendpoints\"><path class=\"legendpie\" d=\"M6,6H-6V-6H6Z\" transform=\"translate(20,0)\" style=\"fill: rgb(44, 160, 44); fill-opacity: 1; stroke-width: 0; stroke: rgb(68, 68, 68); stroke-opacity: 1;\"/></g></g></g><rect class=\"legendtoggle\" x=\"0\" y=\"-9.5\" width=\"182.09375\" height=\"19\" style=\"fill: rgb(0, 0, 0); fill-opacity: 0;\"/></g><g class=\"traces\" transform=\"translate(0,71.5)\" style=\"opacity: 1;\"><text class=\"legendtext\" text-anchor=\"start\" x=\"40\" y=\"4.680000000000001\" style=\"font-family: 'Open Sans', verdana, arial, sans-serif; font-size: 12px; fill: rgb(42, 63, 95); fill-opacity: 1; white-space: pre;\">illegal drugs</text><g class=\"layers\" style=\"opacity: 1;\"><g class=\"legendfill\"/><g class=\"legendlines\"/><g class=\"legendsymbols\"><g class=\"legendpoints\"><path class=\"legendpie\" d=\"M6,6H-6V-6H6Z\" transform=\"translate(20,0)\" style=\"fill: rgb(214, 39, 40); fill-opacity: 1; stroke-width: 0; stroke: rgb(68, 68, 68); stroke-opacity: 1;\"/></g></g></g><rect class=\"legendtoggle\" x=\"0\" y=\"-9.5\" width=\"182.09375\" height=\"19\" style=\"fill: rgb(0, 0, 0); fill-opacity: 0;\"/></g><g class=\"traces\" transform=\"translate(0,90.5)\" style=\"opacity: 1;\"><text class=\"legendtext\" text-anchor=\"start\" x=\"40\" y=\"4.680000000000001\" style=\"font-family: 'Open Sans', verdana, arial, sans-serif; font-size: 12px; fill: rgb(42, 63, 95); fill-opacity: 1; white-space: pre;\">medications</text><g class=\"layers\" style=\"opacity: 1;\"><g class=\"legendfill\"/><g class=\"legendlines\"/><g class=\"legendsymbols\"><g class=\"legendpoints\"><path class=\"legendpie\" d=\"M6,6H-6V-6H6Z\" transform=\"translate(20,0)\" style=\"fill: rgb(148, 103, 189); fill-opacity: 1; stroke-width: 0; stroke: rgb(68, 68, 68); stroke-opacity: 1;\"/></g></g></g><rect class=\"legendtoggle\" x=\"0\" y=\"-9.5\" width=\"182.09375\" height=\"19\" style=\"fill: rgb(0, 0, 0); fill-opacity: 0;\"/></g><g class=\"traces\" transform=\"translate(0,109.5)\" style=\"opacity: 1;\"><text class=\"legendtext\" text-anchor=\"start\" x=\"40\" y=\"4.680000000000001\" style=\"font-family: 'Open Sans', verdana, arial, sans-serif; font-size: 12px; fill: rgb(42, 63, 95); fill-opacity: 1; white-space: pre;\">combination of substances</text><g class=\"layers\" style=\"opacity: 1;\"><g class=\"legendfill\"/><g class=\"legendlines\"/><g class=\"legendsymbols\"><g class=\"legendpoints\"><path class=\"legendpie\" d=\"M6,6H-6V-6H6Z\" transform=\"translate(20,0)\" style=\"fill: rgb(140, 86, 75); fill-opacity: 1; stroke-width: 0; stroke: rgb(68, 68, 68); stroke-opacity: 1;\"/></g></g></g><rect class=\"legendtoggle\" x=\"0\" y=\"-9.5\" width=\"182.09375\" height=\"19\" style=\"fill: rgb(0, 0, 0); fill-opacity: 0;\"/></g></g></g><rect class=\"scrollbar\" rx=\"20\" ry=\"3\" width=\"0\" height=\"0\" x=\"0\" y=\"0\" style=\"fill: rgb(128, 139, 164); fill-opacity: 1;\"/></g><g class=\"g-gtitle\"><text class=\"gtitle\" x=\"30\" y=\"50\" text-anchor=\"start\" dy=\"0em\" style=\"opacity: 1; font-family: 'Open Sans', verdana, arial, sans-serif; font-size: 17px; fill: rgb(42, 63, 95); fill-opacity: 1; white-space: pre;\">Distribution of driver substance abuse - Nov.2023</text></g></g></svg>"
      ]
     },
     "metadata": {},
     "output_type": "display_data"
    },
    {
     "data": {
      "image/svg+xml": [
       "<svg class=\"main-svg\" xmlns=\"http://www.w3.org/2000/svg\" xmlns:xlink=\"http://www.w3.org/1999/xlink\" width=\"600\" height=\"400\" style=\"\" viewBox=\"0 0 600 400\"><rect x=\"0\" y=\"0\" width=\"600\" height=\"400\" style=\"fill: rgb(255, 255, 255); fill-opacity: 1;\"/><defs id=\"defs-a93580\"><g class=\"clips\"/><g class=\"gradients\"/><g class=\"patterns\"/></defs><g class=\"bglayer\"/><g class=\"layer-below\"><g class=\"imagelayer\"/><g class=\"shapelayer\"/></g><g class=\"cartesianlayer\"/><g class=\"polarlayer\"/><g class=\"smithlayer\"/><g class=\"ternarylayer\"/><g class=\"geolayer\"/><g class=\"funnelarealayer\"/><g class=\"pielayer\"><g class=\"trace\" stroke-linejoin=\"round\" style=\"opacity: 1;\"><g class=\"slice\"><path class=\"surface\" d=\"M264,210l0,-110a110,110 0 1 1 -86.20253404602508,41.66901783199742Z\" style=\"pointer-events: none; fill: rgb(31, 119, 180); fill-opacity: 1; stroke-width: 0; stroke: rgb(68, 68, 68); stroke-opacity: 1;\"/><g class=\"slicetext\"><text data-notex=\"1\" class=\"slicetext\" transform=\"translate(287.77229050520873,263.51818862610014)\" text-anchor=\"middle\" x=\"0\" y=\"0\" style=\"font-family: 'Open Sans', verdana, arial, sans-serif; font-size: 12px; fill: rgb(255, 255, 255); fill-opacity: 1; white-space: pre;\">85.7%</text></g></g><g class=\"slice\"><path class=\"surface\" d=\"M264,210l-70.08875337617542,-84.77951786943387a110,110 0 0 1 70.08875337617542,-25.220482130566126Z\" style=\"pointer-events: none; fill: rgb(255, 127, 14); fill-opacity: 1; stroke-width: 0; stroke: rgb(68, 68, 68); stroke-opacity: 1;\"/><g class=\"slicetext\"><text data-notex=\"1\" class=\"slicetext\" transform=\"translate(236.01237854612972,136.6771894577768)\" text-anchor=\"middle\" x=\"0\" y=\"0\" style=\"font-family: 'Open Sans', verdana, arial, sans-serif; font-size: 12px; fill: rgb(68, 68, 68); fill-opacity: 1; white-space: pre;\">11%</text></g></g><g class=\"slice\"><path class=\"surface\" d=\"M264,210l-84.77951786943387,-70.08875337617543a110,110 0 0 1 14.690764493258456,-14.690764493258442Z\" style=\"pointer-events: none; fill: rgb(44, 160, 44); fill-opacity: 1; stroke-width: 0; stroke: rgb(68, 68, 68); stroke-opacity: 1;\"/><g class=\"slicetext\"><text data-notex=\"1\" class=\"slicetext\" transform=\"translate(165.37450406947977,114.58593218234083)\" text-anchor=\"middle\" x=\"0\" y=\"0\" style=\"font-family: 'Open Sans', verdana, arial, sans-serif; font-size: 12px; fill: rgb(42, 63, 95); fill-opacity: 1; white-space: pre;\">3.01%</text></g><path class=\"textline\" stroke-width=\"1.5\" d=\"M186.21825406947977,132.21825406947977V110.58593218234083h-3.5\" fill=\"none\" style=\"stroke: rgb(42, 63, 95); stroke-opacity: 1;\"/></g><g class=\"slice\"><path class=\"surface\" d=\"M264,210l-85.637666825392,-69.03759860179925a110,110 0 0 1 0.8581489559581286,-1.0511547743761867Z\" style=\"pointer-events: none; fill: rgb(214, 39, 40); fill-opacity: 1; stroke-width: 0; stroke: rgb(68, 68, 68); stroke-opacity: 1;\"/><g class=\"slicetext\"><text data-notex=\"1\" class=\"slicetext\" transform=\"translate(154.60228675406614,128.58593218234083)\" text-anchor=\"middle\" x=\"0\" y=\"0\" style=\"font-family: 'Open Sans', verdana, arial, sans-serif; font-size: 12px; fill: rgb(42, 63, 95); fill-opacity: 1; white-space: pre;\">0.196%</text></g><path class=\"textline\" stroke-width=\"1.5\" d=\"M178.78978675406614,140.43550073074283V124.58593218234083h-3.5\" fill=\"none\" style=\"stroke: rgb(42, 63, 95); stroke-opacity: 1;\"/></g><g class=\"slice\"><path class=\"surface\" d=\"M264,210l-86.20253404602508,-68.33098216800259a110,110 0 0 1 0.5648672206330758,-0.7066164337966541Z\" style=\"pointer-events: none; fill: rgb(148, 103, 189); fill-opacity: 1; stroke-width: 0; stroke: rgb(68, 68, 68); stroke-opacity: 1;\"/><g class=\"slicetext\"><text data-notex=\"1\" class=\"slicetext\" transform=\"translate(153.8916731558735,142.58593218234083)\" text-anchor=\"middle\" x=\"0\" y=\"0\" style=\"font-family: 'Open Sans', verdana, arial, sans-serif; font-size: 12px; fill: rgb(42, 63, 95); fill-opacity: 1; white-space: pre;\">0.131%</text></g></g></g></g><g class=\"iciclelayer\"/><g class=\"treemaplayer\"/><g class=\"sunburstlayer\"/><g class=\"glimages\"/><defs id=\"topdefs-a93580\"><g class=\"clips\"/><clipPath id=\"legenda93580\"><rect width=\"142\" height=\"105\" x=\"0\" y=\"0\"/></clipPath></defs><g class=\"layer-above\"><g class=\"imagelayer\"/><g class=\"shapelayer\"/></g><g class=\"infolayer\"><g class=\"legend\" pointer-events=\"all\" transform=\"translate(446,100)\"><rect class=\"bg\" shape-rendering=\"crispEdges\" width=\"142\" height=\"105\" x=\"0\" y=\"0\" style=\"stroke: rgb(68, 68, 68); stroke-opacity: 1; fill: rgb(255, 255, 255); fill-opacity: 1; stroke-width: 0px;\"/><g class=\"scrollbox\" transform=\"\" clip-path=\"url(#legenda93580)\"><g class=\"groups\"><g class=\"traces\" transform=\"translate(0,14.5)\" style=\"opacity: 1;\"><text class=\"legendtext\" text-anchor=\"start\" x=\"40\" y=\"4.680000000000001\" style=\"font-family: 'Open Sans', verdana, arial, sans-serif; font-size: 12px; fill: rgb(42, 63, 95); fill-opacity: 1; white-space: pre;\">other</text><g class=\"layers\" style=\"opacity: 1;\"><g class=\"legendfill\"/><g class=\"legendlines\"/><g class=\"legendsymbols\"><g class=\"legendpoints\"><path class=\"legendpie\" d=\"M6,6H-6V-6H6Z\" transform=\"translate(20,0)\" style=\"fill: rgb(31, 119, 180); fill-opacity: 1; stroke-width: 0; stroke: rgb(68, 68, 68); stroke-opacity: 1;\"/></g></g></g><rect class=\"legendtoggle\" x=\"0\" y=\"-9.5\" width=\"136.0625\" height=\"19\" style=\"fill: rgb(0, 0, 0); fill-opacity: 0;\"/></g><g class=\"traces\" transform=\"translate(0,33.5)\" style=\"opacity: 1;\"><text class=\"legendtext\" text-anchor=\"start\" x=\"40\" y=\"4.680000000000001\" style=\"font-family: 'Open Sans', verdana, arial, sans-serif; font-size: 12px; fill: rgb(42, 63, 95); fill-opacity: 1; white-space: pre;\">unknown</text><g class=\"layers\" style=\"opacity: 1;\"><g class=\"legendfill\"/><g class=\"legendlines\"/><g class=\"legendsymbols\"><g class=\"legendpoints\"><path class=\"legendpie\" d=\"M6,6H-6V-6H6Z\" transform=\"translate(20,0)\" style=\"fill: rgb(255, 127, 14); fill-opacity: 1; stroke-width: 0; stroke: rgb(68, 68, 68); stroke-opacity: 1;\"/></g></g></g><rect class=\"legendtoggle\" x=\"0\" y=\"-9.5\" width=\"136.0625\" height=\"19\" style=\"fill: rgb(0, 0, 0); fill-opacity: 0;\"/></g><g class=\"traces\" transform=\"translate(0,52.5)\" style=\"opacity: 1;\"><text class=\"legendtext\" text-anchor=\"start\" x=\"40\" y=\"4.680000000000001\" style=\"font-family: 'Open Sans', verdana, arial, sans-serif; font-size: 12px; fill: rgb(42, 63, 95); fill-opacity: 1; white-space: pre;\">suspect of alcohol</text><g class=\"layers\" style=\"opacity: 1;\"><g class=\"legendfill\"/><g class=\"legendlines\"/><g class=\"legendsymbols\"><g class=\"legendpoints\"><path class=\"legendpie\" d=\"M6,6H-6V-6H6Z\" transform=\"translate(20,0)\" style=\"fill: rgb(44, 160, 44); fill-opacity: 1; stroke-width: 0; stroke: rgb(68, 68, 68); stroke-opacity: 1;\"/></g></g></g><rect class=\"legendtoggle\" x=\"0\" y=\"-9.5\" width=\"136.0625\" height=\"19\" style=\"fill: rgb(0, 0, 0); fill-opacity: 0;\"/></g><g class=\"traces\" transform=\"translate(0,71.5)\" style=\"opacity: 1;\"><text class=\"legendtext\" text-anchor=\"start\" x=\"40\" y=\"4.680000000000001\" style=\"font-family: 'Open Sans', verdana, arial, sans-serif; font-size: 12px; fill: rgb(42, 63, 95); fill-opacity: 1; white-space: pre;\">suspect of drug</text><g class=\"layers\" style=\"opacity: 1;\"><g class=\"legendfill\"/><g class=\"legendlines\"/><g class=\"legendsymbols\"><g class=\"legendpoints\"><path class=\"legendpie\" d=\"M6,6H-6V-6H6Z\" transform=\"translate(20,0)\" style=\"fill: rgb(214, 39, 40); fill-opacity: 1; stroke-width: 0; stroke: rgb(68, 68, 68); stroke-opacity: 1;\"/></g></g></g><rect class=\"legendtoggle\" x=\"0\" y=\"-9.5\" width=\"136.0625\" height=\"19\" style=\"fill: rgb(0, 0, 0); fill-opacity: 0;\"/></g><g class=\"traces\" transform=\"translate(0,90.5)\" style=\"opacity: 1;\"><text class=\"legendtext\" text-anchor=\"start\" x=\"40\" y=\"4.680000000000001\" style=\"font-family: 'Open Sans', verdana, arial, sans-serif; font-size: 12px; fill: rgb(42, 63, 95); fill-opacity: 1; white-space: pre;\">alcohol</text><g class=\"layers\" style=\"opacity: 1;\"><g class=\"legendfill\"/><g class=\"legendlines\"/><g class=\"legendsymbols\"><g class=\"legendpoints\"><path class=\"legendpie\" d=\"M6,6H-6V-6H6Z\" transform=\"translate(20,0)\" style=\"fill: rgb(148, 103, 189); fill-opacity: 1; stroke-width: 0; stroke: rgb(68, 68, 68); stroke-opacity: 1;\"/></g></g></g><rect class=\"legendtoggle\" x=\"0\" y=\"-9.5\" width=\"136.0625\" height=\"19\" style=\"fill: rgb(0, 0, 0); fill-opacity: 0;\"/></g></g></g><rect class=\"scrollbar\" rx=\"20\" ry=\"3\" width=\"0\" height=\"0\" x=\"0\" y=\"0\" style=\"fill: rgb(128, 139, 164); fill-opacity: 1;\"/></g><g class=\"g-gtitle\"><text class=\"gtitle\" x=\"30\" y=\"50\" text-anchor=\"start\" dy=\"0em\" style=\"opacity: 1; font-family: 'Open Sans', verdana, arial, sans-serif; font-size: 17px; fill: rgb(42, 63, 95); fill-opacity: 1; white-space: pre;\">Distribution of driver substance abuse - Nov.2024</text></g></g></svg>"
      ]
     },
     "metadata": {},
     "output_type": "display_data"
    }
   ],
   "source": [
    "for year in [2021, 2022, 2023, 2024]:\n",
    "    date_selected = df[(df[\"date\"].dt.year == year) & (df[\"date\"].dt.month == 11)].reset_index(drop=True)\n",
    "    count_values = date_selected['driver_substance_abuse'].value_counts()\n",
    "\n",
    "    fig = px.pie(\n",
    "        names=count_values.index,\n",
    "        values=count_values.values,\n",
    "        color=count_values.index,\n",
    "        color_discrete_sequence=['#1f77b4', '#ff7f0e', '#2ca02c', '#d62728', '#9467bd', \n",
    "                                '#8c564b', '#e377c2', '#7f7f7f', '#bcbd22'],\n",
    "        title=\"Distribution of driver substance abuse - Nov.\"+str(year),\n",
    "        labels={'value': 'Count', 'driver_substance_abuse': 'Substance Abuse Category'},\n",
    "        width=600,\n",
    "        height=400\n",
    "    )\n",
    "\n",
    "    fig.show(\"svg\")"
   ]
  },
  {
   "cell_type": "markdown",
   "id": "cf6313ad",
   "metadata": {},
   "source": [
    "# Accident patterns in the month of Thanksgiving"
   ]
  },
  {
   "cell_type": "code",
   "execution_count": 22,
   "id": "d8f94df6-705f-4ee2-91e6-b7b093dc698f",
   "metadata": {},
   "outputs": [
    {
     "data": {
      "image/png": "[encoded data removed]",
      "text/plain": [
       "<Figure size 1000x400 with 2 Axes>"
      ]
     },
     "metadata": {},
     "output_type": "display_data"
    }
   ],
   "source": [
    "fig, axes = plt.subplots(2, 1, sharey=True, figsize=(10, 4))\n",
    "\n",
    "# Mark Sundays in 2022\n",
    "for sunday in [6, 13, 20, 27]:\n",
    "    axes[0].axvline(x=sunday, linestyle=(0, (1, 5)), color=\"gray\")\n",
    "\n",
    "# Mark Sundays in 2024\n",
    "for sunday in [3, 10, 17, 24]:\n",
    "    axes[1].axvline(x=sunday, linestyle=(0, (1, 5)), color=\"gray\")\n",
    "\n",
    "df[(df[\"year\"] == 2022) & (df[\"month\"] == 11)].groupby(\"day\").size().plot(\n",
    "    ax=axes[0],\n",
    "    kind=\"line\",\n",
    "    xticks=np.arange(1,31),\n",
    "    xlabel=\"\",\n",
    "    ylabel=\"NoA\",\n",
    "    rot=45,\n",
    "    marker=\"o\",\n",
    "    color=\"#f55f74\",\n",
    "    label=\"2022\",\n",
    ")\n",
    "\n",
    "axes[0].set_xticklabels([\"Tue\", \"Wed\", \"Thu\", \"Fri\", \"Sat\", \"Sun\", \"Mon\"] * 4 + [\"Tue\", \"Wed\"])\n",
    "axes[0].axvline(x=24, linestyle=\"--\", color=\"orange\", label=\"Thanksgiving\")\n",
    "axes[0].legend(loc=\"lower left\")\n",
    "\n",
    "df[(df[\"year\"] == 2024) & (df[\"month\"] == 11)].groupby(\"day\").size().plot(\n",
    "    ax=axes[1],\n",
    "    kind=\"line\",\n",
    "    xticks=np.arange(1,31),\n",
    "    xlabel=\"\",\n",
    "    ylabel=\"NoA\",\n",
    "    rot=45,\n",
    "    marker=\"o\",\n",
    "    color=\"#0d7d87\",\n",
    "    label=\"2024\",\n",
    ")\n",
    "\n",
    "axes[1].set_xticklabels([\"Fri\", \"Sat\", \"Sun\", \"Mon\", \"Tue\", \"Wed\", \"Thu\"] * 4 + [\"Fri\", \"Sat\"])\n",
    "axes[1].axvline(x=28, linestyle=\"--\", color=\"orange\", label=\"Thanksgiving\")\n",
    "axes[1].legend(loc=\"lower left\")\n",
    "\n",
    "plt.savefig(\"../fig/accidents_per_day.pdf\")"
   ]
  },
  {
   "cell_type": "markdown",
   "id": "0014e07f",
   "metadata": {},
   "source": [
    "# Accident patterns on the days of the week"
   ]
  },
  {
   "cell_type": "code",
   "execution_count": 23,
   "id": "b841f9b2",
   "metadata": {
    "scrolled": true
   },
   "outputs": [
    {
     "data": {
      "image/png": "[encoded data removed]",
      "text/plain": [
       "<Figure size 640x480 with 4 Axes>"
      ]
     },
     "metadata": {},
     "output_type": "display_data"
    }
   ],
   "source": [
    "fig, axes = plt.subplots(2, 2, sharey=True)\n",
    "\n",
    "years = [2021, 2022, 2023, 2024]\n",
    "\n",
    "colors = [\"#4a2377\", \"#f55f74\", \"#8cc5e3\", \"#0d7d87\"]\n",
    "\n",
    "for year, ax, color in zip(years, axes.ravel(), colors):\n",
    "    df[(df[\"year\"] == year) & df[\"month\"].isin([10, 11, 12])].groupby(df[\"date\"].dt.dayofweek).size().plot(\n",
    "                ax=ax,\n",
    "                kind=\"bar\",\n",
    "                title=f\"October-December {year}\",\n",
    "                xlabel=\"\",\n",
    "                ylabel=\"NoA\",\n",
    "                rot=45,\n",
    "                color=color,\n",
    "            )\n",
    "    ax.set_xticklabels(\"Mon Tue Wed Thu Fri Sat Sun\".split())\n",
    "\n",
    "plt.savefig(\"../fig/accidents_per_day_of_week.pdf\")"
   ]
  },
  {
   "cell_type": "markdown",
   "id": "b5b3ee16",
   "metadata": {},
   "source": [
    "# Statistical model"
   ]
  },
  {
   "cell_type": "code",
   "execution_count": 24,
   "id": "281cbc66",
   "metadata": {},
   "outputs": [],
   "source": [
    "years = [2021, 2022, 2023, 2024]\n",
    "\n",
    "thanksgiving_dates = [\n",
    "    dt.date(2015, 11, 26),\n",
    "    dt.date(2016, 11, 25),\n",
    "    dt.date(2017, 11, 23),\n",
    "    dt.date(2018, 11, 22),\n",
    "    dt.date(2019, 11, 28),\n",
    "    dt.date(2020, 11, 26),\n",
    "    dt.date(2021, 11, 25),\n",
    "    dt.date(2022, 11, 24),\n",
    "    dt.date(2023, 11, 23),\n",
    "    dt.date(2024, 11, 28),\n",
    "]\n",
    "\n",
    "blacklisted_dates = [(10, 14), (12, 25), (12, 31)]"
   ]
  },
  {
   "cell_type": "code",
   "execution_count": 25,
   "id": "2596f2fe",
   "metadata": {},
   "outputs": [
    {
     "data": {
      "image/png": "[encoded data removed]",
      "text/plain": [
       "<Figure size 800x200 with 1 Axes>"
      ]
     },
     "metadata": {},
     "output_type": "display_data"
    }
   ],
   "source": [
    "select_thursdays = df[\n",
    "        df[\"year\"].isin(years)\n",
    "        & df[\"month\"].isin([10, 11, 12])\n",
    "        & (df[\"date\"].dt.dayofweek == 3)\n",
    "        & ~(df[\"date\"].dt.date.isin(thanksgiving_dates))\n",
    "        & ~(df[[\"month\", \"day\"]].apply(tuple, axis=1).isin(blacklisted_dates))\n",
    "]\n",
    "\n",
    "fig, ax = plt.subplots(figsize=(8, 2))\n",
    "\n",
    "baseline = select_thursdays.groupby(select_thursdays[\"date\"].dt.date).size()\n",
    "\n",
    "sns.histplot(data=baseline, label=\"data\", kde=False, bins=40, stat=\"probability\", ax=ax)\n",
    "sns.kdeplot(data=baseline, label=\"KDE\", color=\"lime\", ax=ax)\n",
    "\n",
    "ax.set(ylabel=\"Relative frequency\", xlabel=\"NoA\")\n",
    "ax.legend()\n",
    "plt.savefig(\"../fig/accidents_on_thursdays.pdf\")"
   ]
  },
  {
   "cell_type": "markdown",
   "id": "128bdad1-6b00-4bb8-a8f0-cef272c9cb35",
   "metadata": {},
   "source": [
    "# Testing of hypotheses and results"
   ]
  },
  {
   "cell_type": "markdown",
   "id": "9a1139c1",
   "metadata": {},
   "source": [
    "### Hypothesis 1\n",
    "$H_1$: NoA on Thanksgiving is lower compared to usual days."
   ]
  },
  {
   "cell_type": "code",
   "execution_count": 26,
   "id": "4cc97b09-a11c-44c8-bc87-527842386beb",
   "metadata": {},
   "outputs": [
    {
     "name": "stdout",
     "output_type": "stream",
     "text": [
      "Results for Mann-Whitney U test: U = 2.5, p-value = 0.0007107128042474335\n"
     ]
    }
   ],
   "source": [
    "select_thursdays = df[\n",
    "        df[\"year\"].isin(years)\n",
    "        & df[\"month\"].isin([10, 11, 12])\n",
    "        & (df[\"date\"].dt.dayofweek == 3)\n",
    "        & ~(df[\"date\"].dt.date.isin(thanksgiving_dates))\n",
    "        & ~(df[[\"month\", \"day\"]].apply(tuple, axis=1).isin(blacklisted_dates))\n",
    "]\n",
    "\n",
    "baseline = select_thursdays.groupby(select_thursdays[\"date\"].dt.date).size()\n",
    "\n",
    "samples = [\n",
    "        df[df[\"date\"].dt.date == date]\n",
    "        .groupby(\"day\").size().sum()\n",
    "        for date in thanksgiving_dates[-4:]\n",
    "]\n",
    "\n",
    "# Perform Mann-Whitney U test using the baseline data\n",
    "U_stat, p_value = stats.mannwhitneyu(samples, baseline.values, alternative=\"less\")\n",
    "print(f\"Results for Mann-Whitney U test: U = {U_stat}, p-value = {p_value}\")"
   ]
  },
  {
   "cell_type": "markdown",
   "id": "ac2b13be",
   "metadata": {},
   "source": [
    "### Hypothesis 2\n",
    "$H_1$: NoA on Monday before Thanksgiving is greater compared to usual days."
   ]
  },
  {
   "cell_type": "code",
   "execution_count": 27,
   "id": "c4e00bc3",
   "metadata": {},
   "outputs": [
    {
     "name": "stdout",
     "output_type": "stream",
     "text": [
      "Results for Mann-Whitney U test: U = 155.0, p-value = 0.012654258985174471\n"
     ]
    }
   ],
   "source": [
    "select_mondays = df[\n",
    "        df[\"year\"].isin(years)\n",
    "        & df[\"month\"].isin([10, 11, 12])\n",
    "        & (df[\"date\"].dt.dayofweek == 0)\n",
    "        & ~(df[\"date\"].dt.date.isin(date - dt.timedelta(days=3) for date in thanksgiving_dates))\n",
    "        & ~(df[[\"month\", \"day\"]].apply(tuple, axis=1).isin(blacklisted_dates))\n",
    "]\n",
    "\n",
    "baseline = select_mondays.groupby(select_mondays[\"date\"].dt.date).size()\n",
    "\n",
    "samples = [\n",
    "        df[df[\"date\"].dt.date == date - dt.timedelta(days=3)]\n",
    "        .groupby(\"day\").size().sum()\n",
    "        for date in thanksgiving_dates[-4:]\n",
    "]\n",
    "\n",
    "# Perform Mann-Whitney U test using the baseline data\n",
    "U_stat, p_value = stats.mannwhitneyu(samples, baseline.values, alternative=\"greater\")\n",
    "print(f\"Results for Mann-Whitney U test: U = {U_stat}, p-value = {p_value}\")"
   ]
  },
  {
   "cell_type": "markdown",
   "id": "cc9e9839",
   "metadata": {},
   "source": [
    "### Hypothesis 3\n",
    "$H_1$: NoA on Tuesday before Thanksgiving is greater compared to usual days."
   ]
  },
  {
   "cell_type": "code",
   "execution_count": 28,
   "id": "e2d9d553",
   "metadata": {},
   "outputs": [
    {
     "name": "stdout",
     "output_type": "stream",
     "text": [
      "Results for Mann-Whitney U test: U = 142.5, p-value = 0.05682729434779858\n"
     ]
    }
   ],
   "source": [
    "select_tuesdays = df[\n",
    "        df[\"year\"].isin(years)\n",
    "        & df[\"month\"].isin([10, 11, 12])\n",
    "        & (df[\"date\"].dt.dayofweek == 1)\n",
    "        & ~(df[\"date\"].dt.date.isin(date - dt.timedelta(days=2) for date in thanksgiving_dates))\n",
    "        & ~(df[[\"month\", \"day\"]].apply(tuple, axis=1).isin(blacklisted_dates))\n",
    "]\n",
    "\n",
    "baseline = select_tuesdays.groupby(select_tuesdays[\"date\"].dt.date).size()\n",
    "\n",
    "samples = [\n",
    "        df[df[\"date\"].dt.date == date - dt.timedelta(days=2)]\n",
    "        .groupby(\"day\").size().sum()\n",
    "        for date in thanksgiving_dates[-4:]\n",
    "]\n",
    "\n",
    "# Perform Mann-Whitney U test using the baseline data\n",
    "U_stat, p_value = stats.mannwhitneyu(samples, baseline.values, alternative=\"greater\")\n",
    "print(f\"Results for Mann-Whitney U test: U = {U_stat}, p-value = {p_value}\")"
   ]
  },
  {
   "cell_type": "markdown",
   "id": "dd9cff09",
   "metadata": {},
   "source": [
    "### Hypothesis 4\n",
    "$H_1$: NoA on Wednesday before Thanksgiving is greater compared to usual days."
   ]
  },
  {
   "cell_type": "code",
   "execution_count": 29,
   "id": "6ab3cd33",
   "metadata": {},
   "outputs": [
    {
     "name": "stdout",
     "output_type": "stream",
     "text": [
      "Results for Mann-Whitney U test: U = 100.5, p-value = 0.5969587028859101\n"
     ]
    }
   ],
   "source": [
    "select_wednesdays = df[\n",
    "        df[\"year\"].isin(years)\n",
    "        & df[\"month\"].isin([10, 11, 12])\n",
    "        & (df[\"date\"].dt.dayofweek == 2)\n",
    "        & ~(df[\"date\"].dt.date.isin(date - dt.timedelta(days=1) for date in thanksgiving_dates))\n",
    "        & ~(df[[\"month\", \"day\"]].apply(tuple, axis=1).isin(blacklisted_dates))\n",
    "]\n",
    "\n",
    "baseline = select_wednesdays.groupby(select_wednesdays[\"date\"].dt.date).size()\n",
    "\n",
    "samples = [\n",
    "        df[df[\"date\"].dt.date == date - dt.timedelta(days=1)]\n",
    "        .groupby(\"day\").size().sum()\n",
    "        for date in thanksgiving_dates[-4:]\n",
    "]\n",
    "\n",
    "# Perform Mann-Whitney U test using the baseline data\n",
    "U_stat, p_value = stats.mannwhitneyu(samples, baseline.values, alternative=\"less\")\n",
    "print(f\"Results for Mann-Whitney U test: U = {U_stat}, p-value = {p_value}\")"
   ]
  },
  {
   "cell_type": "markdown",
   "id": "830e9cb7",
   "metadata": {},
   "source": [
    "### Hypothesis 5\n",
    "$H_1$: Aggregated NoA on Monday, Tuesday and Wednesday before Thanksgiving is greater compared to usual days."
   ]
  },
  {
   "cell_type": "code",
   "execution_count": 30,
   "id": "c9ef9023",
   "metadata": {},
   "outputs": [
    {
     "name": "stdout",
     "output_type": "stream",
     "text": [
      "Results for Mann-Whitney U test: U = 172.0, p-value = 0.006656719384129764\n"
     ]
    }
   ],
   "source": [
    "select_days = df[\n",
    "        df[\"year\"].isin(years)\n",
    "        & df[\"month\"].isin([10, 11, 12])\n",
    "        # Select Monday, Tuesday and Wednesday\n",
    "        & (df[\"date\"].dt.dayofweek.isin([0, 1, 2]))\n",
    "        # Exclude dates from testing sample\n",
    "        & ~(df[\"date\"].dt.date.isin(np.array([[date - dt.timedelta(days=d) for date in thanksgiving_dates] for d in [1, 2, 3]]).ravel()))\n",
    "        # Exclude blacklisted dates\n",
    "        & ~(df[[\"month\", \"day\"]].apply(tuple, axis=1).isin(blacklisted_dates))\n",
    "].copy()\n",
    "\n",
    "select_days[\"week\"] = select_days[\"date\"].dt.isocalendar().week\n",
    "baseline = select_days.groupby([\"year\", \"week\"]).size()\n",
    "\n",
    "samples = [\n",
    "        df[\n",
    "            df[\"date\"].dt.date.isin([date - dt.timedelta(days=d) for d in [1, 2, 3]])\n",
    "        ]\n",
    "        .groupby(df[\"date\"].dt.isocalendar().week).size().sum()\n",
    "        for date in thanksgiving_dates[-4:]\n",
    "]\n",
    "\n",
    "# Perform Mann-Whitney U test using the baseline data\n",
    "U_stat, p_value = stats.mannwhitneyu(samples, baseline.values, alternative=\"greater\")\n",
    "print(f\"Results for Mann-Whitney U test: U = {U_stat}, p-value = {p_value}\")"
   ]
  }
 ],
 "metadata": {
  "kernelspec": {
   "display_name": "Python 3 (ipykernel)",
   "language": "python",
   "name": "python3"
  },
  "language_info": {
   "codemirror_mode": {
    "name": "ipython",
    "version": 3
   },
   "file_extension": ".py",
   "mimetype": "text/x-python",
   "name": "python",
   "nbconvert_exporter": "python",
   "pygments_lexer": "ipython3",
   "version": "3.13.1"
  }
 },
 "nbformat": 4,
 "nbformat_minor": 5
}
